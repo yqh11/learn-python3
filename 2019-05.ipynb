{
 "cells": [
  {
   "cell_type": "markdown",
   "metadata": {},
   "source": [
    "加标题：按Esc 然后按1,输入标题，然后按shift和enter\n",
    "1.计算机的最小存储单位：字节（8bit）\n",
    "2.内存的最高位是符号位\n",
    "3.原码 反码 补码  \n",
    "  正数原码=反码=补码\n",
    "  负数反码=符号位不变，其他位取反\n",
    "  负数补码=负数反码+1\n",
    "4.已知补码，推原码\n",
    "5.pycharm中\n",
    "  '''\n",
    " 中间的全部注释掉\n",
    " \n",
    "  '''\n",
    "6.选中代码 按 “ctrl+？”可注释掉，再次按住可放开\n",
    "7.标识符：字符串 字母数字下划线\n",
    "  给变量、 函数命名\n",
    "8.变量作用：将不同的数据类型存储到内存     避免函数名和变量名重名\n",
    "  定义\n",
    "   格式：变量名=初始值#数据类型\n",
    "  存储数据\n",
    "   格式：变量名=数据值\n",
    "9.数学函数\n",
    " abs \n",
    " \n",
    "10.#随机数1. random      2.randrange([start],stop,[step])         3.random()    取【0，1)之间的浮点数    4.uniform(x,y)   取[x，y]直间的浮点数\n",
    "   \n",
    "11.list=[]   tuple=() \n",
    "\n",
    "增删改查\n",
    "  list.append()   \n",
    "  list.pop()  list.remove() \n",
    "  print(len(list))\n",
    "  print(list.count(x))\n",
    "  print(max(list))\n",
    "  list.reverse()反转  倒序\n",
    "12.排序\n",
    "  list.sort(排序规则)\n",
    "13.isinstance(data,int)返回 True 或False 判断类型\n",
    "14.python中 ，string,tuples,numbers数值、字符串、元组是不可更改的对象，\n",
    "          list，dict是可更改的对象 \n",
    "  \n",
    "  值传递（不可变类型）\n",
    "  引用传递（可变类型）  \n",
    "  \n",
    "  **key 字典传参  传入的参数以字典的形式打印   *args 元组传参  传入的参数以元组的形式打印\n",
    "\n",
    "15.#匿名函数 lambda\n",
    "\n",
    "#求2个书的和\n",
    "mySum=lambda a,b:a+b\n",
    "print(mySum(20,30)) \n",
    "16.#装饰器  ：是一个闭包，把一个函数作为参数传递，再返回一个函数\n",
    "#返回一个函数的函数\n",
    "\n",
    "#在不修改原函数的前提下，给原函数增加功能\n",
    " #装饰器的简单方法 @  直接在函数上面加上一句  @装饰器函数名  \n",
    " 装饰器一般都是写好的  直接@就好  \n",
    "17.#数据结构\n",
    "#栈  先进后出  压栈  深度遍历  mylist.append(absPath)   出栈：mylist.pop(absPath)\n",
    "\n",
    "#队列  先进先出     广度遍历 层级\n",
    " #遍历目录下的所有文件os.listdir\n",
    " \n",
    " os.path.isdir()函数判断某一路径是否为目录\n",
    " \n",
    " os.path.isfile()函数判断某一路径是否为文件\n",
    " \n",
    "  fileList=os.listdir(onePath)\n",
    "        \n",
    "18.eval（）#数据类型转换                \n",
    "      \n",
    "enumerate() 函数用于将一个可遍历的数据对象(如列表、元组或字符串)组合为一个索引序列.\n",
    "\n",
    "\n",
    "19.break 只跳出最近的一层循环\n",
    "   continue跳出本次循环，继续执行\n",
    "   \n",
    "20. calendar.isleap()  判断是否闰年True False\n",
    "21. import turtle 绘制图像的函数库\n",
    "\n",
    "读取文件\n",
    "'r'： 以只读模式打开（缺省模式）（必须保证文件存在）\n",
    "'w'：以只写模式打开。若文件存在，则会自动清空文件\n",
    "下面四个模式要和上面的模式组合使用\n",
    "'b'：以二进制模式打开\n",
    "'t'： 以文本模式打开（缺省模式）\n",
    "'+'：以读写模式打开\n",
    "'U'：以通用换行符模式打开\n",
    "\n",
    "22. readlines()方法读取整个文件所有行\n",
    "23. f.seek(0)  #回去文件开头  f.seek(2) 回到文件字符下标2\n",
    "\n",
    "   f.close()  #关闭文件  如果不释放，最多可打开1024个文件\n",
    "25.堆heap  往高内存地址扩展  手动分配  对象一般存在堆区，它的名字在栈区\n",
    "栈 stack       往低内存地址扩展  系统自动   变量一般在栈，即指向对象的变量存在栈中（栈中是堆中的地址）\n",
    "\n",
    "\n",
    "\n",
    "26. #访问对象的属性和行为\n",
    "   #访问对象的属性   格式：对象名.属性名\n",
    "      per1.name=18\n",
    "      print(per1.name)    #打印属性没有（）括号\n",
    "   #访问对象的行为   格式： 对象名.行为名（参数）\n",
    "      per1.run()  \n",
    "      per1.eat(\"饭\")      #打印行为有（）括号\n",
    "   \n",
    "27.对象属性优先级高于类属性  ,对象属性更具体\n",
    "28.self.name=name              #self.__name=name此时的name为私有属性，即属性前面加“__”变为私有\n",
    "29.正则表达式：其实是一种规则 \n",
    "格式：  re.match(pattern,string,flags=0)  pattern是正则表达式，也就是模板，string是要匹配的内容，flags是标志位。\n",
    "30.#time模块  时间戳1970-1-1 0时 \n",
    "31.try:\n",
    "    正常的操作\n",
    "   ......................\n",
    "  except:\n",
    "    发生异常，执行这块代码\n",
    "   ......................\n",
    "  else:\n",
    "    如果没有异常执行这块代码\n",
    " \n",
    "                                         \n",
    "import time\n",
    "print(time.time())\n",
    "\n",
    "#gmtime 将时间戳转为元组格式\n",
    "t=time.gmtime(time.time())\n",
    "print(t)\n",
    "\n",
    "#本地时间元组\n",
    "t1=time.localtime()\n",
    "print(t1)\n",
    "\n",
    "#转化为本地的时间戳\n",
    "t2=time.mktime(t1)\n",
    "print(t2)  \n",
    "\n",
    "#时间元组到字符串 asctime\n",
    "t3=time.asctime(t1)\n",
    "print(t3)\n",
    "\n",
    "\n",
    "\n",
    "\n",
    "#时间戳转字符串\n",
    "t4=time.ctime(t2)  #相当与 asctime(time.localtime())\n",
    "print(t4)\n",
    "\n",
    "\n",
    "\n",
    "t5=time.strftime(\"%Y-%M-%D\",t1)\n",
    "print(t5)\n",
    "\n",
    "t6=time.strptime\n",
    "\n",
    "\n",
    "time.sleep(1)\n",
    "   "
   ]
  },
  {
   "cell_type": "code",
   "execution_count": 1,
   "metadata": {},
   "outputs": [
    {
     "name": "stdout",
     "output_type": "stream",
     "text": [
      "you are a dog\n"
     ]
    }
   ],
   "source": [
    "print(\"you are a dog\")"
   ]
  },
  {
   "cell_type": "code",
   "execution_count": 1,
   "metadata": {},
   "outputs": [
    {
     "name": "stdout",
     "output_type": "stream",
     "text": [
      "(100,)\n",
      "80\n",
      "(1, 2, 3, 4, 5, 6)\n",
      "(1, 2, 3, 4, 5, 6, 1, 2, 3, 4, 5, 6)\n",
      "(1, 2, 3, 4)\n",
      "[1, 2, 3]\n"
     ]
    }
   ],
   "source": [
    "#tuple 元组：有序集合\n",
    "# '''\n",
    "# 一旦初始化不能修改\n",
    "# '''\n",
    "#定义有一个元素的元组  \",\" 不可省略\n",
    "t2=(100,)\n",
    "print(t2)\n",
    "\n",
    "#取值[]\n",
    "t3=(10,20,30,40,80,100)\n",
    "print(t3[4])\n",
    "\n",
    "#元组里面的数不可修改\n",
    "\n",
    "#元组操作\n",
    "a=(1,2,3)\n",
    "b=(4,5,6)\n",
    "c=a+b\n",
    "print(c)\n",
    "print(c*2)\n",
    "\n",
    "#删除元组\n",
    "# d=(1,2)\n",
    "# del d\n",
    "\n",
    "#list到tuple\n",
    "b=[1,2,3,4]\n",
    "print(tuple(b))\n",
    "#tuple到list\n",
    "v=(1,2,3)\n",
    "print(list(v))"
   ]
  },
  {
   "cell_type": "code",
   "execution_count": null,
   "metadata": {},
   "outputs": [],
   "source": [
    "#条件控制\n",
    "# '''\n",
    "# if-elif-else\n",
    "\n",
    "#精髓：每一个else都是对它上面表达式的否定\n",
    "\n",
    "# '''\n",
    "age=eval(input(\"请输入年龄：\")) #eval数据类型转换\n",
    "\n",
    "# if age<0:\n",
    "#     print(\"输入有无\")\n",
    "# elif age>=0 and age<=3:\n",
    "#     print(\"yinger\")\n",
    "# elif age>=7 and age<=14:\n",
    "#     print(\"ertong\")\n",
    "# else:\n",
    "#     print(\"shaonian\")\n",
    "if age<0:\n",
    "    print(\"输入有无\")  \n",
    "elif age<=3:                    #不需要再写成 age>=0 and age<=3\n",
    "    print(\"yinger\")\n",
    "elif age<=14:\n",
    "    print(\"ertong\")\n",
    "else:\n",
    "    print(\"shaonian\")\n",
    "\n",
    "\n",
    "   "
   ]
  },
  {
   "cell_type": "code",
   "execution_count": 6,
   "metadata": {},
   "outputs": [
    {
     "name": "stdout",
     "output_type": "stream",
     "text": [
      "请输入时间:16:59:59\n",
      "[17, 60, 60]\n"
     ]
    }
   ],
   "source": [
    " #输入一个时间，打印这个时间的下一秒\n",
    "time = input(\"请输入时间:\")\n",
    "timelist=time.split(\":\")\n",
    "hour=eval(timelist[0])\n",
    "minute=eval(timelist[1])\n",
    "second=eval(timelist[2])\n",
    "if second<59:\n",
    "    second=second+1\n",
    "    time=[hour,minute,second]\n",
    "    print(time)\n",
    "elif minute<59:   #second=59\n",
    "    second=second+1\n",
    "    minute=minute+1\n",
    "    \n",
    "    time=[hour,minute,second]\n",
    "    print(time)\n",
    "elif hour<23:    ##second=59   minute=59\n",
    "    second=second+1\n",
    "    minute=minute+1\n",
    "    hour=hour+1\n",
    "    time=[hour,minute,second]\n",
    "    print(time)\n",
    "\n",
    "else:\n",
    "    print(\"下一秒时间为00:00:00\")"
   ]
  },
  {
   "cell_type": "code",
   "execution_count": 6,
   "metadata": {},
   "outputs": [
    {
     "name": "stdout",
     "output_type": "stream",
     "text": [
      "输入一个时间:16:59:59\n",
      "17:00:00\n"
     ]
    }
   ],
   "source": [
    "time=input(\"输入一个时间:\")\n",
    "timelist=time.split(\":\")\n",
    "hour=eval(timelist[0])\n",
    "minute=eval(timelist[1])\n",
    "second=eval(timelist[2])\n",
    "second+=1\n",
    "if second==60:\n",
    "    second=0\n",
    "    minute+=1\n",
    "    if minute==60:\n",
    "        minute=0\n",
    "        hour+=1\n",
    "        if hour==24:\n",
    "            hour=0\n",
    "print(\"%.2d:%.2d:%.2d\"%(hour,minute,second))\n",
    "\n",
    "\n",
    "\n",
    "\n",
    "# time=input(\"shijian:\")\n",
    "# t=time.split(\":\")\n",
    "# h=eval(t[0])\n",
    "# m=eval(t[1])\n",
    "# s=eval(t[2])\n",
    "# s+=1\n",
    "# if s==60:\n",
    "#     m+=1\n",
    "#     s=0\n",
    "#     if m==60:\n",
    "#         h+=1\n",
    "#         m=0\n",
    "#         if h==24:\n",
    "#             h=0\n",
    "# print(str(h)+\":\"+str(m)+\":\"+str(s))"
   ]
  },
  {
   "cell_type": "code",
   "execution_count": 10,
   "metadata": {},
   "outputs": [
    {
     "name": "stdout",
     "output_type": "stream",
     "text": [
      "1\n",
      "2\n",
      "3\n",
      "4\n",
      "5\n",
      "6\n",
      "7\n",
      "8\n",
      "9\n",
      "10\n",
      "5050\n",
      "0 100\n",
      "1 200\n",
      "2 300\n",
      "3 40\n",
      "4 0\n",
      "5 500\n"
     ]
    }
   ],
   "source": [
    "#循环语句\n",
    "#打印1-10的数字\n",
    "num =1\n",
    "while num<=10:  #为真的时候执行while里面的语句\n",
    "    print(num)\n",
    "    num+=1\n",
    "    \n",
    "#for\n",
    "\n",
    "# for 变量名 in 集合：\n",
    "#     语句\n",
    "sum=0\n",
    "for i in range(101):\n",
    "    sum+=i\n",
    "print(sum)\n",
    "    \n",
    "list1=[100,200,300,40,0,500]\n",
    "for index,value in enumerate(list1):\n",
    "    print(index,value)"
   ]
  },
  {
   "cell_type": "code",
   "execution_count": 13,
   "metadata": {},
   "outputs": [
    {
     "name": "stdout",
     "output_type": "stream",
     "text": [
      "1\n",
      "2\n",
      "3\n",
      "1\n",
      "2\n",
      "4\n",
      "5\n"
     ]
    }
   ],
   "source": [
    "#break continue \n",
    "#break跳出循环,只能跳出最近的一层循环\n",
    "\n",
    "num=1\n",
    "while num<=10:\n",
    "    print(num)\n",
    "    if num==3:\n",
    "        break\n",
    "    num+=1\n",
    "else:\n",
    "    print(\"*******\")\n",
    "    \n",
    "#continue 跳出本次循环，继续执行\n",
    "\n",
    "num=1\n",
    "while num<=5:\n",
    "    if num==3:   #跳过3继续执行  \n",
    "        num+=1    #如果不加这行，死循环，永远在num=3中跳不出来\n",
    "        continue\n",
    "    print(num)\n",
    "    num+=1"
   ]
  },
  {
   "cell_type": "code",
   "execution_count": 9,
   "metadata": {},
   "outputs": [
    {
     "name": "stdout",
     "output_type": "stream",
     "text": [
      "8\n"
     ]
    }
   ],
   "source": [
    "#练习  有1个10元素列表，整数，找出第二大值[1,2,3,4,2,5,6,7,8,9]\n",
    "l1=[1,2,3,4,2,5,6,7,8,9]\n",
    "i=1\n",
    "max1=l1[0]\n",
    "max2=l1[0]\n",
    "while i<len(l1):\n",
    "    if l1[i]>max1:\n",
    "        max2=max1\n",
    "        max1=l1[i]\n",
    "    else:\n",
    "        if l1[i]>max2:\n",
    "            max2=l1[i]\n",
    "    i+=1\n",
    "print(max2)\n",
    "\n",
    "# q=[1,2,5,6,38,9,1,3,4]\n",
    "# max1=q[0]\n",
    "\n",
    "# i=0\n",
    "# for i in range(9):\n",
    "#     if max1<q[i]:\n",
    "#         max1=q[i]\n",
    "#         i+=1\n",
    "# print(max1)"
   ]
  },
  {
   "cell_type": "code",
   "execution_count": null,
   "metadata": {},
   "outputs": [],
   "source": []
  },
  {
   "cell_type": "code",
   "execution_count": 18,
   "metadata": {},
   "outputs": [
    {
     "name": "stdout",
     "output_type": "stream",
     "text": [
      "8\n"
     ]
    }
   ],
   "source": [
    "#返回值，不是下标，下标的话，找个变量记录一下就好了\n",
    "l1=[1,2,3,4,2,5,6,7,8,9]\n",
    "i = 1\n",
    "max1 = l1[0]\n",
    "max2 = l1[0]\n",
    "while i < len(l1):\n",
    "    if l1[i]>max1:\n",
    "        max2 = max1\n",
    "        max1 = l1[i]\n",
    "    else:\n",
    "        if l1[i]>max2:\n",
    "            max2 = l1[i]\n",
    "    i +=1\n",
    "print(max2)"
   ]
  },
  {
   "cell_type": "code",
   "execution_count": 15,
   "metadata": {},
   "outputs": [
    {
     "name": "stdout",
     "output_type": "stream",
     "text": [
      "请输入年份:2000\n"
     ]
    },
    {
     "ename": "TypeError",
     "evalue": "not all arguments converted during string formatting",
     "output_type": "error",
     "traceback": [
      "\u001b[1;31m---------------------------------------------------------------------------\u001b[0m",
      "\u001b[1;31mTypeError\u001b[0m                                 Traceback (most recent call last)",
      "\u001b[1;32m<ipython-input-15-02610673aa81>\u001b[0m in \u001b[0;36m<module>\u001b[1;34m\u001b[0m\n\u001b[0;32m      1\u001b[0m \u001b[1;31m#闰年 能被4整除但不能被100整除     能被400整除\u001b[0m\u001b[1;33m\u001b[0m\u001b[1;33m\u001b[0m\u001b[1;33m\u001b[0m\u001b[0m\n\u001b[0;32m      2\u001b[0m \u001b[0myear\u001b[0m\u001b[1;33m=\u001b[0m\u001b[0minput\u001b[0m\u001b[1;33m(\u001b[0m\u001b[1;34m\"请输入年份:\"\u001b[0m\u001b[1;33m)\u001b[0m\u001b[1;33m\u001b[0m\u001b[1;33m\u001b[0m\u001b[0m\n\u001b[1;32m----> 3\u001b[1;33m \u001b[1;32mif\u001b[0m \u001b[1;33m(\u001b[0m\u001b[0myear\u001b[0m\u001b[1;33m%\u001b[0m\u001b[1;36m4\u001b[0m\u001b[1;33m==\u001b[0m\u001b[1;36m0\u001b[0m \u001b[1;32mand\u001b[0m \u001b[0myear\u001b[0m\u001b[1;33m%\u001b[0m\u001b[1;36m100\u001b[0m\u001b[1;33m!=\u001b[0m\u001b[1;36m0\u001b[0m\u001b[1;33m)\u001b[0m\u001b[1;32mor\u001b[0m \u001b[1;33m(\u001b[0m\u001b[0myear\u001b[0m\u001b[1;33m%\u001b[0m\u001b[1;36m400\u001b[0m\u001b[1;33m==\u001b[0m\u001b[1;36m0\u001b[0m\u001b[1;33m)\u001b[0m\u001b[1;33m:\u001b[0m\u001b[1;33m\u001b[0m\u001b[1;33m\u001b[0m\u001b[0m\n\u001b[0m\u001b[0;32m      4\u001b[0m     \u001b[0mprint\u001b[0m\u001b[1;33m(\u001b[0m\u001b[1;34m\"%s是闰年\"\u001b[0m\u001b[1;33m%\u001b[0m\u001b[0myear\u001b[0m\u001b[1;33m)\u001b[0m\u001b[1;33m\u001b[0m\u001b[1;33m\u001b[0m\u001b[0m\n\u001b[0;32m      5\u001b[0m \u001b[1;32melse\u001b[0m\u001b[1;33m:\u001b[0m\u001b[1;33m\u001b[0m\u001b[1;33m\u001b[0m\u001b[0m\n",
      "\u001b[1;31mTypeError\u001b[0m: not all arguments converted during string formatting"
     ]
    }
   ],
   "source": [
    "#闰年 能被4整除但不能被100整除     能被400整除\n",
    "year=input(\"请输入年份:\")\n",
    "if (year%4==0 and year%100!=0)or (year%400==0):\n",
    "    print(\"%s是闰年\"%year)\n",
    "else:\n",
    "    print(\"%s不是闰年\"%year)\n",
    "    \n",
    "    \n",
    "#  print(calendar.isleap(2019)) 如果是闰年，返回True \n"
   ]
  },
  {
   "cell_type": "code",
   "execution_count": 19,
   "metadata": {},
   "outputs": [],
   "source": [
    "import turtle\n",
    "turtle.up()\n",
    "turtle.goto(200,100)\n",
    "turtle.down()\n",
    "turtle.backward(200)\n"
   ]
  },
  {
   "cell_type": "code",
   "execution_count": 11,
   "metadata": {},
   "outputs": [
    {
     "name": "stdout",
     "output_type": "stream",
     "text": [
      "{'name': '李磊', 'age': 19}\n",
      "19\n",
      "{'name': '李磊', 'age': 19, '韩梅梅': ['权力', '金钱', '知识']}\n",
      "{'name': '李磊', '韩梅梅': ['权力', '金钱', '知识']}\n",
      "name 李磊\n",
      "韩梅梅 ['权力', '金钱', '知识']\n",
      "李磊\n",
      "['权力', '金钱', '知识']\n",
      "0 name\n",
      "1 韩梅梅\n"
     ]
    }
   ],
   "source": [
    "#dict{使用键值对进行存储  字典是无序的\n",
    "#key必须唯一，为字符串，key为不可变的对象\n",
    "\n",
    "#思考：保存多个学生的姓名和年龄\n",
    "d1={'name':'李磊','age':19}\n",
    "print(d1)\n",
    "print(d1['age'])\n",
    "\n",
    "#增加键值对\n",
    "d1['韩梅梅']=[\"权力\",\"金钱\",\"知识\"]\n",
    "print(d1)\n",
    "\n",
    "#删除\n",
    "d1.pop('age')\n",
    "print(d1)\n",
    "\n",
    "\n",
    "\n",
    "#遍历字典的key\n",
    "for key in d1:\n",
    "    print(key,d1[key])\n",
    "    \n",
    "#遍历字典的value\n",
    "\n",
    "for value in d1.values():\n",
    "    print(value)\n",
    "    \n",
    "\n",
    "#带下标\n",
    "for index,value in enumerate(d1):\n",
    "    print(index,value)\n",
    "    "
   ]
  },
  {
   "cell_type": "code",
   "execution_count": 16,
   "metadata": {},
   "outputs": [
    {
     "name": "stdout",
     "output_type": "stream",
     "text": [
      "{1, 2, 3, 4, 5, 6, 7}\n",
      "{1, 2, 3, 4, 5, 6, 7, 10}\n",
      "0 1\n",
      "1 2\n",
      "2 4\n",
      "3 5\n",
      "4 6\n",
      "5 7\n",
      "6 10\n",
      "{3}\n",
      "{1, 2, 3, 4, 5, 6}\n"
     ]
    }
   ],
   "source": [
    "#set创建    可实现去重复   结果是{大括号\n",
    "\n",
    "s1=set([1,2,3,4,5,6,7,4,5])\n",
    "print(s1)\n",
    "\n",
    "s1.add(10)\n",
    "print(s1)\n",
    "\n",
    "#删除数据3\n",
    "s1.remove(3)\n",
    "\n",
    "#遍历  enumerate可生成下标\n",
    "for index,data in enumerate(s1):\n",
    "    print(index,data)\n",
    "      \n",
    "\n",
    "        \n",
    "#交集\n",
    "\n",
    "s2=set([1,2,3])\n",
    "s3=set([4,3,5,6])\n",
    "s4=s2&s3\n",
    "print(s4)\n",
    "\n",
    "#并集\n",
    "s5=s2|s3\n",
    "print(s5)"
   ]
  },
  {
   "cell_type": "code",
   "execution_count": 75,
   "metadata": {},
   "outputs": [
    {
     "name": "stdout",
     "output_type": "stream",
     "text": [
      "A\n",
      "B\n",
      "C\n",
      "D\n",
      "我叫yqh，我今年18岁\n",
      "\n",
      "('a', 'b', 'c')\n",
      "请输入整数\n"
     ]
    },
    {
     "data": {
      "text/plain": [
       "1"
      ]
     },
     "execution_count": 75,
     "metadata": {},
     "output_type": "execute_result"
    }
   ],
   "source": [
    "# 函数定义\n",
    "# def 函数名(参数列表):\n",
    "#     语句\n",
    "#     return 表达式\n",
    "\n",
    "# 函数名：调用的话直接调用函数名\n",
    "# 语句：即为要封装的内容\n",
    "# 表达式：为要反馈的内容\n",
    "\n",
    "#最简单的函数  无参无返回值\n",
    "def myprint():\n",
    "    print(\"A\")\n",
    "    print(\"B\")\n",
    "    print(\"C\")\n",
    "    print(\"D\")\n",
    "#     return q\n",
    "    \n",
    "# 调用函数\n",
    "# 函数名(参数列表)\n",
    "# 本质：实参给形参赋值的过程\n",
    "myprint()\n",
    "\n",
    "\n",
    "\n",
    "\n",
    "#需求：将姓名和年龄给函数，打印\n",
    "#形参：变量 name age\n",
    "\n",
    "def myFunc(name,age):\n",
    "    print(\"我叫%s，我今年%d岁\"%(name,age))\n",
    "\n",
    "# a=\"yqh\"\n",
    "# myFunc(a,18)\n",
    "#实参\n",
    "myFunc(\"yqh\",18)\n",
    "\n",
    "#默认参数：调用函数时，如果没有传递参数，则使用默认值\n",
    "\n",
    "#不定长参数：实参不确定个数的情况\n",
    "\n",
    "def func(*hobby):\n",
    "    print(\"\")\n",
    "    print(hobby)\n",
    "\n",
    "func(\"a\",\"b\",\"c\")  #元组\n",
    "\n",
    "#**key  是字典\n",
    "\n",
    "\n",
    "\n",
    "#练习\n",
    "#编写函数实现传入一个整数，返回是不是偶数\n",
    "# def myData(data,type):\n",
    "    \n",
    "#     if t==True and data%2==0:\n",
    "#         return 1\n",
    "#     else:\n",
    "#         return 0\n",
    "                        \n",
    "# a=101\n",
    "# t=isinstance(a,int)\n",
    "# myData(a,t)\n",
    "\n",
    "\n",
    "def S(data):\n",
    "    if isinstance(data,int):\n",
    "        if data%2==0:\n",
    "            return 1\n",
    "        else:\n",
    "            return 0\n",
    "    else:\n",
    "        print(\"请输入整数\")\n",
    "a=\"ssss\" \n",
    "S(a)\n",
    "#编写函数实现传入一个五位数整数，返回是不是回文数    12321\n",
    "\n",
    "# def myData(data):\n",
    "#     if isinstance(data,int):\n",
    "#         if data>=10000 and data<=99999 and (data//10000)==(data%10) and (data//1000)%10==(data%100)//10:\n",
    "#             return 1\n",
    "#         else:\n",
    "#             return 0\n",
    "                \n",
    "#     else:\n",
    "#         print(\"请输入一个五位数整数\")\n",
    "        \n",
    "        \n",
    "# a=12321\n",
    "# myData(a)\n",
    "def myData(data):\n",
    "    if isinstance(a,list):      \n",
    "            data=list(data) \n",
    "            t=data\n",
    "            data.reverse()\n",
    "        \n",
    "            if t==data:\n",
    "                 return 1\n",
    "            else:\n",
    "                 return 0\n",
    "   \n",
    "    else:\n",
    "        print(\"请输入一个list\")\n",
    "    \n",
    "        \n",
    "a=[1,2.3,2,1]\n",
    "myData(a)\n",
    "\n"
   ]
  },
  {
   "cell_type": "code",
   "execution_count": 74,
   "metadata": {},
   "outputs": [
    {
     "name": "stdout",
     "output_type": "stream",
     "text": [
      "200\n",
      "123\n",
      "[1, 200, 3, 4, 5]\n",
      "[1, 200, 3, 4, 5]\n"
     ]
    }
   ],
   "source": [
    "# 值传递（不可变类型）numbers tuple string\n",
    "def Func1(data):\n",
    "    data=200\n",
    "    print(data)\n",
    "    \n",
    "a=123\n",
    "Func1(a)\n",
    "print(a)  #a的值不变\n",
    "\n",
    "\n",
    "\n",
    "\n",
    "#   引用传递（可变类型）list dict\n",
    "def Func2(list2):\n",
    "    list2[1]=200\n",
    "    print(list2)\n",
    "    \n",
    "list1=[1,2,3,4,5]\n",
    "Func2(list1)\n",
    "print(list1)  #list1的值变了"
   ]
  },
  {
   "cell_type": "code",
   "execution_count": 77,
   "metadata": {},
   "outputs": [
    {
     "name": "stdout",
     "output_type": "stream",
     "text": [
      "\n",
      "('a', 'b', 'c')\n"
     ]
    }
   ],
   "source": [
    "#匿名函数 lambda\n",
    "\n",
    "#求2个书的和\n",
    "mySum=lambda a,b:a+b\n",
    "print(mySum(20,30))"
   ]
  },
  {
   "cell_type": "code",
   "execution_count": 1,
   "metadata": {},
   "outputs": [
    {
     "ename": "SyntaxError",
     "evalue": "invalid syntax (<ipython-input-1-00540a41b7ed>, line 8)",
     "output_type": "error",
     "traceback": [
      "\u001b[1;36m  File \u001b[1;32m\"<ipython-input-1-00540a41b7ed>\"\u001b[1;36m, line \u001b[1;32m8\u001b[0m\n\u001b[1;33m    you are a beautiful girl\u001b[0m\n\u001b[1;37m          ^\u001b[0m\n\u001b[1;31mSyntaxError\u001b[0m\u001b[1;31m:\u001b[0m invalid syntax\n"
     ]
    }
   ],
   "source": [
    "#装饰器  ：是一个闭包，把一个函数作为参数传递，再返回一个函数\n",
    "#返回一个函数的函数\n",
    "\n",
    "#在不修改原函数的前提下，给原函数增加功能\n",
    "    \n",
    "#打印下面的格式   \n",
    "--------------------start\n",
    "you are a beautiful girl\n",
    "--------------------end\n",
    "\n",
    "\n",
    "#inner和myPrint形参数要统一，形参的名字随意变\n",
    "def myPrint():\n",
    "    print(\"you are a beautiful girl\")\n",
    "\n",
    "def myNew(a):\n",
    "    def inner():\n",
    "        print(\"--------------------start\")\n",
    "        a()\n",
    "        print(\"--------------------end\")\n",
    "        \n",
    "    return inner\n",
    "\n",
    "myPrint=myNew(myPrint)\n",
    "    \n",
    "\n",
    "\n",
    "\n",
    "##########################\n",
    "def getAge(age):\"%d years old\"%age)\n",
    "\n",
    "#装饰器\n",
    "def outer(a):\n",
    "    def inner(b):\n",
    "        if b<0:\n",
    "            a(0)\n",
    "        else:\n",
    "            a(b)\n",
    "    return inner\n",
    "getAge=outer(getAge)\n",
    "getAge(18)\n",
    "getAge(-18)"
   ]
  },
  {
   "cell_type": "code",
   "execution_count": 88,
   "metadata": {},
   "outputs": [
    {
     "name": "stdout",
     "output_type": "stream",
     "text": [
      "My age is 18 yeas old\n",
      "My age is 0 yeas old\n"
     ]
    }
   ],
   "source": [
    "#装饰器的简单方法 @  直接在函数上面加上一句  @装饰器函数名\n",
    "# def getAge(age):\n",
    "#     print(\"My age is %d yeas old\"%age)\n",
    "\n",
    "# #装饰器\n",
    "# def outer(a):\n",
    "#     def inner(b):\n",
    "#         if b<0:\n",
    "#             a(0)\n",
    "#         else:\n",
    "#             a(b)\n",
    "#     return inner\n",
    "# getAge=outer(getAge)\n",
    "# getAge(18)\n",
    "# getAge(-18)\n",
    "\n",
    "\n",
    "#装饰器\n",
    "def outer(a):\n",
    "    def inner(b):\n",
    "        if b<0:\n",
    "            a(0)\n",
    "        else:\n",
    "            a(b)\n",
    "    return inner\n",
    "#getAge=outer(getAge)\n",
    "@outer\n",
    "def getAge(age):\n",
    "    print(\"My age is %d yeas old\"%age)\n",
    "getAge(18)\n",
    "getAge(-18)"
   ]
  },
  {
   "cell_type": "code",
   "execution_count": 1,
   "metadata": {
    "scrolled": true
   },
   "outputs": [
    {
     "ename": "FileNotFoundError",
     "evalue": "[Errno 2] No such file or directory: '文件路径'",
     "output_type": "error",
     "traceback": [
      "\u001b[1;31m---------------------------------------------------------------------------\u001b[0m",
      "\u001b[1;31mFileNotFoundError\u001b[0m                         Traceback (most recent call last)",
      "\u001b[1;32m<ipython-input-1-9e24ffa6dbfa>\u001b[0m in \u001b[0;36m<module>\u001b[1;34m\u001b[0m\n\u001b[0;32m      1\u001b[0m \u001b[1;31m#读文件  空格也占字符\u001b[0m\u001b[1;33m\u001b[0m\u001b[1;33m\u001b[0m\u001b[1;33m\u001b[0m\u001b[0m\n\u001b[0;32m      2\u001b[0m \u001b[1;31m#通用写法1\u001b[0m\u001b[1;33m\u001b[0m\u001b[1;33m\u001b[0m\u001b[1;33m\u001b[0m\u001b[0m\n\u001b[1;32m----> 3\u001b[1;33m \u001b[1;32mwith\u001b[0m \u001b[0mopen\u001b[0m\u001b[1;33m(\u001b[0m\u001b[1;34mr\"文件路径\"\u001b[0m\u001b[1;33m,\u001b[0m\u001b[1;34m\"r\"\u001b[0m\u001b[1;33m)\u001b[0m \u001b[1;32mas\u001b[0m \u001b[0mf\u001b[0m\u001b[1;33m:\u001b[0m\u001b[1;33m\u001b[0m\u001b[1;33m\u001b[0m\u001b[0m\n\u001b[0m\u001b[0;32m      4\u001b[0m     \u001b[0mprint\u001b[0m\u001b[1;33m(\u001b[0m\u001b[0mf\u001b[0m\u001b[1;33m.\u001b[0m\u001b[0mread\u001b[0m\u001b[1;33m(\u001b[0m\u001b[1;33m)\u001b[0m\u001b[1;33m)\u001b[0m\u001b[1;33m\u001b[0m\u001b[1;33m\u001b[0m\u001b[0m\n\u001b[0;32m      5\u001b[0m \u001b[1;33m\u001b[0m\u001b[0m\n",
      "\u001b[1;31mFileNotFoundError\u001b[0m: [Errno 2] No such file or directory: '文件路径'"
     ]
    }
   ],
   "source": [
    "#读文件  空格也占字符\n",
    "#通用写法1\n",
    "with open(r\"文件路径\",\"r\") as f:\n",
    "    print(f.read())\n",
    "\n",
    "#方法2\n",
    "try:\n",
    "    f=open(r\"文件路径\",\"r\")\n",
    "    print(f.read())\n",
    "finally:\n",
    "    if f:\n",
    "        f.close()\n",
    "\n",
    "\n",
    "        \n",
    "\n",
    "f=open(\"lujing\")\n",
    "str1=f.read()\n",
    "str2=f.readline()\n",
    "\n",
    "f.seek(0)  #回去文件开头  f.seek(2) 回到文件字符下标2\n",
    "\n",
    "f.close()  #关闭文件  如果不释放，最多可打开1024个文件\n",
    "\n",
    "\n",
    "\n",
    "#写文件   将数据写入缓存区，刷新缓冲区（将数据写入文件）\n",
    "f=open(r\"文件路径\",\"a\")\n",
    "f.write()\n",
    "f.close()\n",
    "\n",
    "\n",
    "#编码\n",
    "with open(\"c.txt\",\"wb\") as f:\n",
    "    f.write(\"you re a dog\",encode(\"utf-8\"))\n",
    "\n",
    "    \n",
    "#解码\n",
    "with open(\"c.txt\",\"rb\") as f:\n",
    "    data=f.read()\n",
    "    str=data.decode((\"utf-8\"))\n",
    "    \n",
    "    \n",
    "#list tuple dict set文件的操作\n",
    "arr=[1,2,3]\n",
    "f=open(\"a.txt\",\"wb\")\n",
    "brr=pickle.dump(f)\n",
    "print(brr)\n",
    "\n",
    "\n",
    "import pickle\n",
    "pickle.dump()  #序列化对象，并将结果数据流写入到文件对象中。\n",
    "pickle.load()  #反序列化对象。将文件中的数据解析为一个Python对象。\n",
    "    \n"
   ]
  },
  {
   "cell_type": "code",
   "execution_count": 3,
   "metadata": {},
   "outputs": [
    {
     "name": "stdout",
     "output_type": "stream",
     "text": [
      "nt\n"
     ]
    }
   ],
   "source": [
    "#os模块\n",
    "import os\n",
    "\n",
    "\n",
    "print(os.name)"
   ]
  },
  {
   "cell_type": "code",
   "execution_count": 20,
   "metadata": {},
   "outputs": [
    {
     "data": {
      "text/plain": [
       "1"
      ]
     },
     "execution_count": 20,
     "metadata": {},
     "output_type": "execute_result"
    }
   ],
   "source": [
    "#语音合成   \n",
    "import win32com.client\n",
    "speaker=win32com.client.Dispatch(\"SAPI.SPVOICE\")\n",
    "speaker.Speak(\"今晚单独\")"
   ]
  },
  {
   "cell_type": "code",
   "execution_count": 21,
   "metadata": {},
   "outputs": [
    {
     "name": "stdout",
     "output_type": "stream",
     "text": [
      "F:\\PycharmProjects\\线上python01\\day01\\project\\input.py\n",
      "F:\\PycharmProjects\\线上python01\\day01\\project\\关键字打印.py\n",
      "F:\\PycharmProjects\\线上python01\\day01\\project\\第一个python程序.py\n",
      "F:\\PycharmProjects\\线上python01\\day01\\project\\venv\\pip-selfcheck.json\n",
      "F:\\PycharmProjects\\线上python01\\day01\\project\\venv\\pyvenv.cfg\n",
      "F:\\PycharmProjects\\线上python01\\day01\\project\\venv\\Scripts\\activate\n",
      "F:\\PycharmProjects\\线上python01\\day01\\project\\venv\\Scripts\\activate.bat\n",
      "F:\\PycharmProjects\\线上python01\\day01\\project\\venv\\Scripts\\Activate.ps1\n",
      "F:\\PycharmProjects\\线上python01\\day01\\project\\venv\\Scripts\\deactivate.bat\n",
      "F:\\PycharmProjects\\线上python01\\day01\\project\\venv\\Scripts\\easy_install-3.6-script.py\n",
      "F:\\PycharmProjects\\线上python01\\day01\\project\\venv\\Scripts\\easy_install-3.6.exe\n",
      "F:\\PycharmProjects\\线上python01\\day01\\project\\venv\\Scripts\\easy_install-script.py\n",
      "F:\\PycharmProjects\\线上python01\\day01\\project\\venv\\Scripts\\easy_install.exe\n",
      "F:\\PycharmProjects\\线上python01\\day01\\project\\venv\\Scripts\\pip-script.py\n",
      "F:\\PycharmProjects\\线上python01\\day01\\project\\venv\\Scripts\\pip.exe\n",
      "F:\\PycharmProjects\\线上python01\\day01\\project\\venv\\Scripts\\pip3-script.py\n",
      "F:\\PycharmProjects\\线上python01\\day01\\project\\venv\\Scripts\\pip3.6-script.py\n",
      "F:\\PycharmProjects\\线上python01\\day01\\project\\venv\\Scripts\\pip3.6.exe\n",
      "F:\\PycharmProjects\\线上python01\\day01\\project\\venv\\Scripts\\pip3.exe\n",
      "F:\\PycharmProjects\\线上python01\\day01\\project\\venv\\Scripts\\pyexpat.pyd\n",
      "F:\\PycharmProjects\\线上python01\\day01\\project\\venv\\Scripts\\python.exe\n",
      "F:\\PycharmProjects\\线上python01\\day01\\project\\venv\\Scripts\\python3.dll\n",
      "F:\\PycharmProjects\\线上python01\\day01\\project\\venv\\Scripts\\python36.dll\n",
      "F:\\PycharmProjects\\线上python01\\day01\\project\\venv\\Scripts\\pythonw.exe\n",
      "F:\\PycharmProjects\\线上python01\\day01\\project\\venv\\Scripts\\select.pyd\n",
      "F:\\PycharmProjects\\线上python01\\day01\\project\\venv\\Scripts\\sqlite3.dll\n",
      "F:\\PycharmProjects\\线上python01\\day01\\project\\venv\\Scripts\\tcl86t.dll\n",
      "F:\\PycharmProjects\\线上python01\\day01\\project\\venv\\Scripts\\tk86t.dll\n",
      "F:\\PycharmProjects\\线上python01\\day01\\project\\venv\\Scripts\\unicodedata.pyd\n",
      "F:\\PycharmProjects\\线上python01\\day01\\project\\venv\\Scripts\\vcruntime140.dll\n",
      "F:\\PycharmProjects\\线上python01\\day01\\project\\venv\\Scripts\\winsound.pyd\n",
      "F:\\PycharmProjects\\线上python01\\day01\\project\\venv\\Scripts\\_asyncio.pyd\n",
      "F:\\PycharmProjects\\线上python01\\day01\\project\\venv\\Scripts\\_bz2.pyd\n",
      "F:\\PycharmProjects\\线上python01\\day01\\project\\venv\\Scripts\\_ctypes.pyd\n",
      "F:\\PycharmProjects\\线上python01\\day01\\project\\venv\\Scripts\\_ctypes_test.pyd\n",
      "F:\\PycharmProjects\\线上python01\\day01\\project\\venv\\Scripts\\_decimal.pyd\n",
      "F:\\PycharmProjects\\线上python01\\day01\\project\\venv\\Scripts\\_distutils_findvs.pyd\n",
      "F:\\PycharmProjects\\线上python01\\day01\\project\\venv\\Scripts\\_elementtree.pyd\n",
      "F:\\PycharmProjects\\线上python01\\day01\\project\\venv\\Scripts\\_hashlib.pyd\n",
      "F:\\PycharmProjects\\线上python01\\day01\\project\\venv\\Scripts\\_lzma.pyd\n",
      "F:\\PycharmProjects\\线上python01\\day01\\project\\venv\\Scripts\\_msi.pyd\n",
      "F:\\PycharmProjects\\线上python01\\day01\\project\\venv\\Scripts\\_multiprocessing.pyd\n",
      "F:\\PycharmProjects\\线上python01\\day01\\project\\venv\\Scripts\\_overlapped.pyd\n",
      "F:\\PycharmProjects\\线上python01\\day01\\project\\venv\\Scripts\\_socket.pyd\n",
      "F:\\PycharmProjects\\线上python01\\day01\\project\\venv\\Scripts\\_sqlite3.pyd\n",
      "F:\\PycharmProjects\\线上python01\\day01\\project\\venv\\Scripts\\_ssl.pyd\n",
      "F:\\PycharmProjects\\线上python01\\day01\\project\\venv\\Scripts\\_testbuffer.pyd\n",
      "F:\\PycharmProjects\\线上python01\\day01\\project\\venv\\Scripts\\_testcapi.pyd\n",
      "F:\\PycharmProjects\\线上python01\\day01\\project\\venv\\Scripts\\_testconsole.pyd\n",
      "F:\\PycharmProjects\\线上python01\\day01\\project\\venv\\Scripts\\_testimportmultiple.pyd\n",
      "F:\\PycharmProjects\\线上python01\\day01\\project\\venv\\Scripts\\_testmultiphase.pyd\n",
      "F:\\PycharmProjects\\线上python01\\day01\\project\\venv\\Scripts\\_tkinter.pyd\n",
      "F:\\PycharmProjects\\线上python01\\day01\\project\\venv\\Lib\\tcl8.6\\init.tcl\n",
      "F:\\PycharmProjects\\线上python01\\day01\\project\\venv\\Lib\\site-packages\\easy-install.pth\n",
      "F:\\PycharmProjects\\线上python01\\day01\\project\\venv\\Lib\\site-packages\\keywords.py\n",
      "F:\\PycharmProjects\\线上python01\\day01\\project\\venv\\Lib\\site-packages\\setup.py\n",
      "F:\\PycharmProjects\\线上python01\\day01\\project\\venv\\Lib\\site-packages\\setuptools-39.1.0-py3.6.egg\n",
      "F:\\PycharmProjects\\线上python01\\day01\\project\\venv\\Lib\\site-packages\\setuptools.pth\n",
      "F:\\PycharmProjects\\线上python01\\day01\\project\\venv\\Lib\\site-packages\\test.py\n",
      "F:\\PycharmProjects\\线上python01\\day01\\project\\venv\\Lib\\site-packages\\pip-10.0.1-py3.6.egg\\pip\\__init__.py\n",
      "F:\\PycharmProjects\\线上python01\\day01\\project\\venv\\Lib\\site-packages\\pip-10.0.1-py3.6.egg\\pip\\__main__.py\n",
      "F:\\PycharmProjects\\线上python01\\day01\\project\\venv\\Lib\\site-packages\\pip-10.0.1-py3.6.egg\\pip\\_vendor\\appdirs.py\n",
      "F:\\PycharmProjects\\线上python01\\day01\\project\\venv\\Lib\\site-packages\\pip-10.0.1-py3.6.egg\\pip\\_vendor\\distro.py\n",
      "F:\\PycharmProjects\\线上python01\\day01\\project\\venv\\Lib\\site-packages\\pip-10.0.1-py3.6.egg\\pip\\_vendor\\ipaddress.py\n",
      "F:\\PycharmProjects\\线上python01\\day01\\project\\venv\\Lib\\site-packages\\pip-10.0.1-py3.6.egg\\pip\\_vendor\\pyparsing.py\n",
      "F:\\PycharmProjects\\线上python01\\day01\\project\\venv\\Lib\\site-packages\\pip-10.0.1-py3.6.egg\\pip\\_vendor\\retrying.py\n",
      "F:\\PycharmProjects\\线上python01\\day01\\project\\venv\\Lib\\site-packages\\pip-10.0.1-py3.6.egg\\pip\\_vendor\\six.py\n",
      "F:\\PycharmProjects\\线上python01\\day01\\project\\venv\\Lib\\site-packages\\pip-10.0.1-py3.6.egg\\pip\\_vendor\\__init__.py\n",
      "F:\\PycharmProjects\\线上python01\\day01\\project\\venv\\Lib\\site-packages\\pip-10.0.1-py3.6.egg\\pip\\_vendor\\webencodings\\labels.py\n",
      "F:\\PycharmProjects\\线上python01\\day01\\project\\venv\\Lib\\site-packages\\pip-10.0.1-py3.6.egg\\pip\\_vendor\\webencodings\\mklabels.py\n",
      "F:\\PycharmProjects\\线上python01\\day01\\project\\venv\\Lib\\site-packages\\pip-10.0.1-py3.6.egg\\pip\\_vendor\\webencodings\\tests.py\n",
      "F:\\PycharmProjects\\线上python01\\day01\\project\\venv\\Lib\\site-packages\\pip-10.0.1-py3.6.egg\\pip\\_vendor\\webencodings\\x_user_defined.py\n",
      "F:\\PycharmProjects\\线上python01\\day01\\project\\venv\\Lib\\site-packages\\pip-10.0.1-py3.6.egg\\pip\\_vendor\\webencodings\\__init__.py\n",
      "F:\\PycharmProjects\\线上python01\\day01\\project\\venv\\Lib\\site-packages\\pip-10.0.1-py3.6.egg\\pip\\_vendor\\urllib3\\connection.py\n",
      "F:\\PycharmProjects\\线上python01\\day01\\project\\venv\\Lib\\site-packages\\pip-10.0.1-py3.6.egg\\pip\\_vendor\\urllib3\\connectionpool.py\n",
      "F:\\PycharmProjects\\线上python01\\day01\\project\\venv\\Lib\\site-packages\\pip-10.0.1-py3.6.egg\\pip\\_vendor\\urllib3\\exceptions.py\n",
      "F:\\PycharmProjects\\线上python01\\day01\\project\\venv\\Lib\\site-packages\\pip-10.0.1-py3.6.egg\\pip\\_vendor\\urllib3\\fields.py\n",
      "F:\\PycharmProjects\\线上python01\\day01\\project\\venv\\Lib\\site-packages\\pip-10.0.1-py3.6.egg\\pip\\_vendor\\urllib3\\filepost.py\n",
      "F:\\PycharmProjects\\线上python01\\day01\\project\\venv\\Lib\\site-packages\\pip-10.0.1-py3.6.egg\\pip\\_vendor\\urllib3\\poolmanager.py\n",
      "F:\\PycharmProjects\\线上python01\\day01\\project\\venv\\Lib\\site-packages\\pip-10.0.1-py3.6.egg\\pip\\_vendor\\urllib3\\request.py\n",
      "F:\\PycharmProjects\\线上python01\\day01\\project\\venv\\Lib\\site-packages\\pip-10.0.1-py3.6.egg\\pip\\_vendor\\urllib3\\response.py\n",
      "F:\\PycharmProjects\\线上python01\\day01\\project\\venv\\Lib\\site-packages\\pip-10.0.1-py3.6.egg\\pip\\_vendor\\urllib3\\_collections.py\n",
      "F:\\PycharmProjects\\线上python01\\day01\\project\\venv\\Lib\\site-packages\\pip-10.0.1-py3.6.egg\\pip\\_vendor\\urllib3\\__init__.py\n",
      "F:\\PycharmProjects\\线上python01\\day01\\project\\venv\\Lib\\site-packages\\pip-10.0.1-py3.6.egg\\pip\\_vendor\\urllib3\\util\\connection.py\n",
      "F:\\PycharmProjects\\线上python01\\day01\\project\\venv\\Lib\\site-packages\\pip-10.0.1-py3.6.egg\\pip\\_vendor\\urllib3\\util\\request.py\n",
      "F:\\PycharmProjects\\线上python01\\day01\\project\\venv\\Lib\\site-packages\\pip-10.0.1-py3.6.egg\\pip\\_vendor\\urllib3\\util\\response.py\n",
      "F:\\PycharmProjects\\线上python01\\day01\\project\\venv\\Lib\\site-packages\\pip-10.0.1-py3.6.egg\\pip\\_vendor\\urllib3\\util\\retry.py\n",
      "F:\\PycharmProjects\\线上python01\\day01\\project\\venv\\Lib\\site-packages\\pip-10.0.1-py3.6.egg\\pip\\_vendor\\urllib3\\util\\selectors.py\n",
      "F:\\PycharmProjects\\线上python01\\day01\\project\\venv\\Lib\\site-packages\\pip-10.0.1-py3.6.egg\\pip\\_vendor\\urllib3\\util\\ssl_.py\n",
      "F:\\PycharmProjects\\线上python01\\day01\\project\\venv\\Lib\\site-packages\\pip-10.0.1-py3.6.egg\\pip\\_vendor\\urllib3\\util\\timeout.py\n",
      "F:\\PycharmProjects\\线上python01\\day01\\project\\venv\\Lib\\site-packages\\pip-10.0.1-py3.6.egg\\pip\\_vendor\\urllib3\\util\\url.py\n",
      "F:\\PycharmProjects\\线上python01\\day01\\project\\venv\\Lib\\site-packages\\pip-10.0.1-py3.6.egg\\pip\\_vendor\\urllib3\\util\\wait.py\n",
      "F:\\PycharmProjects\\线上python01\\day01\\project\\venv\\Lib\\site-packages\\pip-10.0.1-py3.6.egg\\pip\\_vendor\\urllib3\\util\\__init__.py\n",
      "F:\\PycharmProjects\\线上python01\\day01\\project\\venv\\Lib\\site-packages\\pip-10.0.1-py3.6.egg\\pip\\_vendor\\urllib3\\packages\\ordered_dict.py\n",
      "F:\\PycharmProjects\\线上python01\\day01\\project\\venv\\Lib\\site-packages\\pip-10.0.1-py3.6.egg\\pip\\_vendor\\urllib3\\packages\\six.py\n",
      "F:\\PycharmProjects\\线上python01\\day01\\project\\venv\\Lib\\site-packages\\pip-10.0.1-py3.6.egg\\pip\\_vendor\\urllib3\\packages\\__init__.py\n",
      "F:\\PycharmProjects\\线上python01\\day01\\project\\venv\\Lib\\site-packages\\pip-10.0.1-py3.6.egg\\pip\\_vendor\\urllib3\\packages\\ssl_match_hostname\\_implementation.py\n",
      "F:\\PycharmProjects\\线上python01\\day01\\project\\venv\\Lib\\site-packages\\pip-10.0.1-py3.6.egg\\pip\\_vendor\\urllib3\\packages\\ssl_match_hostname\\__init__.py\n",
      "F:\\PycharmProjects\\线上python01\\day01\\project\\venv\\Lib\\site-packages\\pip-10.0.1-py3.6.egg\\pip\\_vendor\\urllib3\\packages\\backports\\makefile.py\n",
      "F:\\PycharmProjects\\线上python01\\day01\\project\\venv\\Lib\\site-packages\\pip-10.0.1-py3.6.egg\\pip\\_vendor\\urllib3\\packages\\backports\\__init__.py\n",
      "F:\\PycharmProjects\\线上python01\\day01\\project\\venv\\Lib\\site-packages\\pip-10.0.1-py3.6.egg\\pip\\_vendor\\urllib3\\contrib\\appengine.py\n",
      "F:\\PycharmProjects\\线上python01\\day01\\project\\venv\\Lib\\site-packages\\pip-10.0.1-py3.6.egg\\pip\\_vendor\\urllib3\\contrib\\ntlmpool.py\n",
      "F:\\PycharmProjects\\线上python01\\day01\\project\\venv\\Lib\\site-packages\\pip-10.0.1-py3.6.egg\\pip\\_vendor\\urllib3\\contrib\\pyopenssl.py\n",
      "F:\\PycharmProjects\\线上python01\\day01\\project\\venv\\Lib\\site-packages\\pip-10.0.1-py3.6.egg\\pip\\_vendor\\urllib3\\contrib\\securetransport.py\n",
      "F:\\PycharmProjects\\线上python01\\day01\\project\\venv\\Lib\\site-packages\\pip-10.0.1-py3.6.egg\\pip\\_vendor\\urllib3\\contrib\\socks.py\n",
      "F:\\PycharmProjects\\线上python01\\day01\\project\\venv\\Lib\\site-packages\\pip-10.0.1-py3.6.egg\\pip\\_vendor\\urllib3\\contrib\\__init__.py\n",
      "F:\\PycharmProjects\\线上python01\\day01\\project\\venv\\Lib\\site-packages\\pip-10.0.1-py3.6.egg\\pip\\_vendor\\urllib3\\contrib\\_securetransport\\bindings.py\n",
      "F:\\PycharmProjects\\线上python01\\day01\\project\\venv\\Lib\\site-packages\\pip-10.0.1-py3.6.egg\\pip\\_vendor\\urllib3\\contrib\\_securetransport\\low_level.py\n",
      "F:\\PycharmProjects\\线上python01\\day01\\project\\venv\\Lib\\site-packages\\pip-10.0.1-py3.6.egg\\pip\\_vendor\\urllib3\\contrib\\_securetransport\\__init__.py\n",
      "F:\\PycharmProjects\\线上python01\\day01\\project\\venv\\Lib\\site-packages\\pip-10.0.1-py3.6.egg\\pip\\_vendor\\requests\\adapters.py\n",
      "F:\\PycharmProjects\\线上python01\\day01\\project\\venv\\Lib\\site-packages\\pip-10.0.1-py3.6.egg\\pip\\_vendor\\requests\\api.py\n",
      "F:\\PycharmProjects\\线上python01\\day01\\project\\venv\\Lib\\site-packages\\pip-10.0.1-py3.6.egg\\pip\\_vendor\\requests\\auth.py\n",
      "F:\\PycharmProjects\\线上python01\\day01\\project\\venv\\Lib\\site-packages\\pip-10.0.1-py3.6.egg\\pip\\_vendor\\requests\\certs.py\n",
      "F:\\PycharmProjects\\线上python01\\day01\\project\\venv\\Lib\\site-packages\\pip-10.0.1-py3.6.egg\\pip\\_vendor\\requests\\compat.py\n",
      "F:\\PycharmProjects\\线上python01\\day01\\project\\venv\\Lib\\site-packages\\pip-10.0.1-py3.6.egg\\pip\\_vendor\\requests\\cookies.py\n",
      "F:\\PycharmProjects\\线上python01\\day01\\project\\venv\\Lib\\site-packages\\pip-10.0.1-py3.6.egg\\pip\\_vendor\\requests\\exceptions.py\n",
      "F:\\PycharmProjects\\线上python01\\day01\\project\\venv\\Lib\\site-packages\\pip-10.0.1-py3.6.egg\\pip\\_vendor\\requests\\help.py\n",
      "F:\\PycharmProjects\\线上python01\\day01\\project\\venv\\Lib\\site-packages\\pip-10.0.1-py3.6.egg\\pip\\_vendor\\requests\\hooks.py\n",
      "F:\\PycharmProjects\\线上python01\\day01\\project\\venv\\Lib\\site-packages\\pip-10.0.1-py3.6.egg\\pip\\_vendor\\requests\\models.py\n",
      "F:\\PycharmProjects\\线上python01\\day01\\project\\venv\\Lib\\site-packages\\pip-10.0.1-py3.6.egg\\pip\\_vendor\\requests\\packages.py\n",
      "F:\\PycharmProjects\\线上python01\\day01\\project\\venv\\Lib\\site-packages\\pip-10.0.1-py3.6.egg\\pip\\_vendor\\requests\\sessions.py\n",
      "F:\\PycharmProjects\\线上python01\\day01\\project\\venv\\Lib\\site-packages\\pip-10.0.1-py3.6.egg\\pip\\_vendor\\requests\\status_codes.py\n",
      "F:\\PycharmProjects\\线上python01\\day01\\project\\venv\\Lib\\site-packages\\pip-10.0.1-py3.6.egg\\pip\\_vendor\\requests\\structures.py\n",
      "F:\\PycharmProjects\\线上python01\\day01\\project\\venv\\Lib\\site-packages\\pip-10.0.1-py3.6.egg\\pip\\_vendor\\requests\\utils.py\n",
      "F:\\PycharmProjects\\线上python01\\day01\\project\\venv\\Lib\\site-packages\\pip-10.0.1-py3.6.egg\\pip\\_vendor\\requests\\_internal_utils.py\n",
      "F:\\PycharmProjects\\线上python01\\day01\\project\\venv\\Lib\\site-packages\\pip-10.0.1-py3.6.egg\\pip\\_vendor\\requests\\__init__.py\n",
      "F:\\PycharmProjects\\线上python01\\day01\\project\\venv\\Lib\\site-packages\\pip-10.0.1-py3.6.egg\\pip\\_vendor\\requests\\__version__.py\n",
      "F:\\PycharmProjects\\线上python01\\day01\\project\\venv\\Lib\\site-packages\\pip-10.0.1-py3.6.egg\\pip\\_vendor\\pytoml\\core.py\n",
      "F:\\PycharmProjects\\线上python01\\day01\\project\\venv\\Lib\\site-packages\\pip-10.0.1-py3.6.egg\\pip\\_vendor\\pytoml\\parser.py\n",
      "F:\\PycharmProjects\\线上python01\\day01\\project\\venv\\Lib\\site-packages\\pip-10.0.1-py3.6.egg\\pip\\_vendor\\pytoml\\writer.py\n",
      "F:\\PycharmProjects\\线上python01\\day01\\project\\venv\\Lib\\site-packages\\pip-10.0.1-py3.6.egg\\pip\\_vendor\\pytoml\\__init__.py\n",
      "F:\\PycharmProjects\\线上python01\\day01\\project\\venv\\Lib\\site-packages\\pip-10.0.1-py3.6.egg\\pip\\_vendor\\progress\\bar.py\n",
      "F:\\PycharmProjects\\线上python01\\day01\\project\\venv\\Lib\\site-packages\\pip-10.0.1-py3.6.egg\\pip\\_vendor\\progress\\counter.py\n",
      "F:\\PycharmProjects\\线上python01\\day01\\project\\venv\\Lib\\site-packages\\pip-10.0.1-py3.6.egg\\pip\\_vendor\\progress\\helpers.py\n",
      "F:\\PycharmProjects\\线上python01\\day01\\project\\venv\\Lib\\site-packages\\pip-10.0.1-py3.6.egg\\pip\\_vendor\\progress\\spinner.py\n",
      "F:\\PycharmProjects\\线上python01\\day01\\project\\venv\\Lib\\site-packages\\pip-10.0.1-py3.6.egg\\pip\\_vendor\\progress\\__init__.py\n",
      "F:\\PycharmProjects\\线上python01\\day01\\project\\venv\\Lib\\site-packages\\pip-10.0.1-py3.6.egg\\pip\\_vendor\\pkg_resources\\py31compat.py\n",
      "F:\\PycharmProjects\\线上python01\\day01\\project\\venv\\Lib\\site-packages\\pip-10.0.1-py3.6.egg\\pip\\_vendor\\pkg_resources\\__init__.py\n",
      "F:\\PycharmProjects\\线上python01\\day01\\project\\venv\\Lib\\site-packages\\pip-10.0.1-py3.6.egg\\pip\\_vendor\\packaging\\markers.py\n",
      "F:\\PycharmProjects\\线上python01\\day01\\project\\venv\\Lib\\site-packages\\pip-10.0.1-py3.6.egg\\pip\\_vendor\\packaging\\requirements.py\n",
      "F:\\PycharmProjects\\线上python01\\day01\\project\\venv\\Lib\\site-packages\\pip-10.0.1-py3.6.egg\\pip\\_vendor\\packaging\\specifiers.py\n",
      "F:\\PycharmProjects\\线上python01\\day01\\project\\venv\\Lib\\site-packages\\pip-10.0.1-py3.6.egg\\pip\\_vendor\\packaging\\utils.py\n",
      "F:\\PycharmProjects\\线上python01\\day01\\project\\venv\\Lib\\site-packages\\pip-10.0.1-py3.6.egg\\pip\\_vendor\\packaging\\version.py\n",
      "F:\\PycharmProjects\\线上python01\\day01\\project\\venv\\Lib\\site-packages\\pip-10.0.1-py3.6.egg\\pip\\_vendor\\packaging\\_compat.py\n",
      "F:\\PycharmProjects\\线上python01\\day01\\project\\venv\\Lib\\site-packages\\pip-10.0.1-py3.6.egg\\pip\\_vendor\\packaging\\_structures.py\n",
      "F:\\PycharmProjects\\线上python01\\day01\\project\\venv\\Lib\\site-packages\\pip-10.0.1-py3.6.egg\\pip\\_vendor\\packaging\\__about__.py\n",
      "F:\\PycharmProjects\\线上python01\\day01\\project\\venv\\Lib\\site-packages\\pip-10.0.1-py3.6.egg\\pip\\_vendor\\packaging\\__init__.py\n",
      "F:\\PycharmProjects\\线上python01\\day01\\project\\venv\\Lib\\site-packages\\pip-10.0.1-py3.6.egg\\pip\\_vendor\\msgpack\\exceptions.py\n",
      "F:\\PycharmProjects\\线上python01\\day01\\project\\venv\\Lib\\site-packages\\pip-10.0.1-py3.6.egg\\pip\\_vendor\\msgpack\\fallback.py\n",
      "F:\\PycharmProjects\\线上python01\\day01\\project\\venv\\Lib\\site-packages\\pip-10.0.1-py3.6.egg\\pip\\_vendor\\msgpack\\_version.py\n",
      "F:\\PycharmProjects\\线上python01\\day01\\project\\venv\\Lib\\site-packages\\pip-10.0.1-py3.6.egg\\pip\\_vendor\\msgpack\\__init__.py\n",
      "F:\\PycharmProjects\\线上python01\\day01\\project\\venv\\Lib\\site-packages\\pip-10.0.1-py3.6.egg\\pip\\_vendor\\lockfile\\linklockfile.py\n",
      "F:\\PycharmProjects\\线上python01\\day01\\project\\venv\\Lib\\site-packages\\pip-10.0.1-py3.6.egg\\pip\\_vendor\\lockfile\\mkdirlockfile.py\n",
      "F:\\PycharmProjects\\线上python01\\day01\\project\\venv\\Lib\\site-packages\\pip-10.0.1-py3.6.egg\\pip\\_vendor\\lockfile\\pidlockfile.py\n",
      "F:\\PycharmProjects\\线上python01\\day01\\project\\venv\\Lib\\site-packages\\pip-10.0.1-py3.6.egg\\pip\\_vendor\\lockfile\\sqlitelockfile.py\n",
      "F:\\PycharmProjects\\线上python01\\day01\\project\\venv\\Lib\\site-packages\\pip-10.0.1-py3.6.egg\\pip\\_vendor\\lockfile\\symlinklockfile.py\n",
      "F:\\PycharmProjects\\线上python01\\day01\\project\\venv\\Lib\\site-packages\\pip-10.0.1-py3.6.egg\\pip\\_vendor\\lockfile\\__init__.py\n",
      "F:\\PycharmProjects\\线上python01\\day01\\project\\venv\\Lib\\site-packages\\pip-10.0.1-py3.6.egg\\pip\\_vendor\\idna\\codec.py\n",
      "F:\\PycharmProjects\\线上python01\\day01\\project\\venv\\Lib\\site-packages\\pip-10.0.1-py3.6.egg\\pip\\_vendor\\idna\\compat.py\n",
      "F:\\PycharmProjects\\线上python01\\day01\\project\\venv\\Lib\\site-packages\\pip-10.0.1-py3.6.egg\\pip\\_vendor\\idna\\core.py\n",
      "F:\\PycharmProjects\\线上python01\\day01\\project\\venv\\Lib\\site-packages\\pip-10.0.1-py3.6.egg\\pip\\_vendor\\idna\\idnadata.py\n",
      "F:\\PycharmProjects\\线上python01\\day01\\project\\venv\\Lib\\site-packages\\pip-10.0.1-py3.6.egg\\pip\\_vendor\\idna\\intranges.py\n",
      "F:\\PycharmProjects\\线上python01\\day01\\project\\venv\\Lib\\site-packages\\pip-10.0.1-py3.6.egg\\pip\\_vendor\\idna\\package_data.py\n",
      "F:\\PycharmProjects\\线上python01\\day01\\project\\venv\\Lib\\site-packages\\pip-10.0.1-py3.6.egg\\pip\\_vendor\\idna\\uts46data.py\n",
      "F:\\PycharmProjects\\线上python01\\day01\\project\\venv\\Lib\\site-packages\\pip-10.0.1-py3.6.egg\\pip\\_vendor\\idna\\__init__.py\n",
      "F:\\PycharmProjects\\线上python01\\day01\\project\\venv\\Lib\\site-packages\\pip-10.0.1-py3.6.egg\\pip\\_vendor\\html5lib\\constants.py\n",
      "F:\\PycharmProjects\\线上python01\\day01\\project\\venv\\Lib\\site-packages\\pip-10.0.1-py3.6.egg\\pip\\_vendor\\html5lib\\html5parser.py\n",
      "F:\\PycharmProjects\\线上python01\\day01\\project\\venv\\Lib\\site-packages\\pip-10.0.1-py3.6.egg\\pip\\_vendor\\html5lib\\serializer.py\n",
      "F:\\PycharmProjects\\线上python01\\day01\\project\\venv\\Lib\\site-packages\\pip-10.0.1-py3.6.egg\\pip\\_vendor\\html5lib\\_ihatexml.py\n",
      "F:\\PycharmProjects\\线上python01\\day01\\project\\venv\\Lib\\site-packages\\pip-10.0.1-py3.6.egg\\pip\\_vendor\\html5lib\\_inputstream.py\n",
      "F:\\PycharmProjects\\线上python01\\day01\\project\\venv\\Lib\\site-packages\\pip-10.0.1-py3.6.egg\\pip\\_vendor\\html5lib\\_tokenizer.py\n",
      "F:\\PycharmProjects\\线上python01\\day01\\project\\venv\\Lib\\site-packages\\pip-10.0.1-py3.6.egg\\pip\\_vendor\\html5lib\\_utils.py\n",
      "F:\\PycharmProjects\\线上python01\\day01\\project\\venv\\Lib\\site-packages\\pip-10.0.1-py3.6.egg\\pip\\_vendor\\html5lib\\__init__.py\n",
      "F:\\PycharmProjects\\线上python01\\day01\\project\\venv\\Lib\\site-packages\\pip-10.0.1-py3.6.egg\\pip\\_vendor\\html5lib\\_trie\\datrie.py\n",
      "F:\\PycharmProjects\\线上python01\\day01\\project\\venv\\Lib\\site-packages\\pip-10.0.1-py3.6.egg\\pip\\_vendor\\html5lib\\_trie\\py.py\n",
      "F:\\PycharmProjects\\线上python01\\day01\\project\\venv\\Lib\\site-packages\\pip-10.0.1-py3.6.egg\\pip\\_vendor\\html5lib\\_trie\\_base.py\n",
      "F:\\PycharmProjects\\线上python01\\day01\\project\\venv\\Lib\\site-packages\\pip-10.0.1-py3.6.egg\\pip\\_vendor\\html5lib\\_trie\\__init__.py\n",
      "F:\\PycharmProjects\\线上python01\\day01\\project\\venv\\Lib\\site-packages\\pip-10.0.1-py3.6.egg\\pip\\_vendor\\html5lib\\treewalkers\\base.py\n",
      "F:\\PycharmProjects\\线上python01\\day01\\project\\venv\\Lib\\site-packages\\pip-10.0.1-py3.6.egg\\pip\\_vendor\\html5lib\\treewalkers\\dom.py\n",
      "F:\\PycharmProjects\\线上python01\\day01\\project\\venv\\Lib\\site-packages\\pip-10.0.1-py3.6.egg\\pip\\_vendor\\html5lib\\treewalkers\\etree.py\n",
      "F:\\PycharmProjects\\线上python01\\day01\\project\\venv\\Lib\\site-packages\\pip-10.0.1-py3.6.egg\\pip\\_vendor\\html5lib\\treewalkers\\etree_lxml.py\n",
      "F:\\PycharmProjects\\线上python01\\day01\\project\\venv\\Lib\\site-packages\\pip-10.0.1-py3.6.egg\\pip\\_vendor\\html5lib\\treewalkers\\genshi.py\n",
      "F:\\PycharmProjects\\线上python01\\day01\\project\\venv\\Lib\\site-packages\\pip-10.0.1-py3.6.egg\\pip\\_vendor\\html5lib\\treewalkers\\__init__.py\n",
      "F:\\PycharmProjects\\线上python01\\day01\\project\\venv\\Lib\\site-packages\\pip-10.0.1-py3.6.egg\\pip\\_vendor\\html5lib\\treebuilders\\base.py\n",
      "F:\\PycharmProjects\\线上python01\\day01\\project\\venv\\Lib\\site-packages\\pip-10.0.1-py3.6.egg\\pip\\_vendor\\html5lib\\treebuilders\\dom.py\n",
      "F:\\PycharmProjects\\线上python01\\day01\\project\\venv\\Lib\\site-packages\\pip-10.0.1-py3.6.egg\\pip\\_vendor\\html5lib\\treebuilders\\etree.py\n",
      "F:\\PycharmProjects\\线上python01\\day01\\project\\venv\\Lib\\site-packages\\pip-10.0.1-py3.6.egg\\pip\\_vendor\\html5lib\\treebuilders\\etree_lxml.py\n",
      "F:\\PycharmProjects\\线上python01\\day01\\project\\venv\\Lib\\site-packages\\pip-10.0.1-py3.6.egg\\pip\\_vendor\\html5lib\\treebuilders\\__init__.py\n",
      "F:\\PycharmProjects\\线上python01\\day01\\project\\venv\\Lib\\site-packages\\pip-10.0.1-py3.6.egg\\pip\\_vendor\\html5lib\\treeadapters\\genshi.py\n",
      "F:\\PycharmProjects\\线上python01\\day01\\project\\venv\\Lib\\site-packages\\pip-10.0.1-py3.6.egg\\pip\\_vendor\\html5lib\\treeadapters\\sax.py\n",
      "F:\\PycharmProjects\\线上python01\\day01\\project\\venv\\Lib\\site-packages\\pip-10.0.1-py3.6.egg\\pip\\_vendor\\html5lib\\treeadapters\\__init__.py\n",
      "F:\\PycharmProjects\\线上python01\\day01\\project\\venv\\Lib\\site-packages\\pip-10.0.1-py3.6.egg\\pip\\_vendor\\html5lib\\filters\\alphabeticalattributes.py\n",
      "F:\\PycharmProjects\\线上python01\\day01\\project\\venv\\Lib\\site-packages\\pip-10.0.1-py3.6.egg\\pip\\_vendor\\html5lib\\filters\\base.py\n",
      "F:\\PycharmProjects\\线上python01\\day01\\project\\venv\\Lib\\site-packages\\pip-10.0.1-py3.6.egg\\pip\\_vendor\\html5lib\\filters\\inject_meta_charset.py\n",
      "F:\\PycharmProjects\\线上python01\\day01\\project\\venv\\Lib\\site-packages\\pip-10.0.1-py3.6.egg\\pip\\_vendor\\html5lib\\filters\\lint.py\n",
      "F:\\PycharmProjects\\线上python01\\day01\\project\\venv\\Lib\\site-packages\\pip-10.0.1-py3.6.egg\\pip\\_vendor\\html5lib\\filters\\optionaltags.py\n",
      "F:\\PycharmProjects\\线上python01\\day01\\project\\venv\\Lib\\site-packages\\pip-10.0.1-py3.6.egg\\pip\\_vendor\\html5lib\\filters\\sanitizer.py\n",
      "F:\\PycharmProjects\\线上python01\\day01\\project\\venv\\Lib\\site-packages\\pip-10.0.1-py3.6.egg\\pip\\_vendor\\html5lib\\filters\\whitespace.py\n",
      "F:\\PycharmProjects\\线上python01\\day01\\project\\venv\\Lib\\site-packages\\pip-10.0.1-py3.6.egg\\pip\\_vendor\\html5lib\\filters\\__init__.py\n",
      "F:\\PycharmProjects\\线上python01\\day01\\project\\venv\\Lib\\site-packages\\pip-10.0.1-py3.6.egg\\pip\\_vendor\\distlib\\compat.py\n",
      "F:\\PycharmProjects\\线上python01\\day01\\project\\venv\\Lib\\site-packages\\pip-10.0.1-py3.6.egg\\pip\\_vendor\\distlib\\database.py\n",
      "F:\\PycharmProjects\\线上python01\\day01\\project\\venv\\Lib\\site-packages\\pip-10.0.1-py3.6.egg\\pip\\_vendor\\distlib\\index.py\n",
      "F:\\PycharmProjects\\线上python01\\day01\\project\\venv\\Lib\\site-packages\\pip-10.0.1-py3.6.egg\\pip\\_vendor\\distlib\\locators.py\n",
      "F:\\PycharmProjects\\线上python01\\day01\\project\\venv\\Lib\\site-packages\\pip-10.0.1-py3.6.egg\\pip\\_vendor\\distlib\\manifest.py\n",
      "F:\\PycharmProjects\\线上python01\\day01\\project\\venv\\Lib\\site-packages\\pip-10.0.1-py3.6.egg\\pip\\_vendor\\distlib\\markers.py\n",
      "F:\\PycharmProjects\\线上python01\\day01\\project\\venv\\Lib\\site-packages\\pip-10.0.1-py3.6.egg\\pip\\_vendor\\distlib\\metadata.py\n",
      "F:\\PycharmProjects\\线上python01\\day01\\project\\venv\\Lib\\site-packages\\pip-10.0.1-py3.6.egg\\pip\\_vendor\\distlib\\resources.py\n",
      "F:\\PycharmProjects\\线上python01\\day01\\project\\venv\\Lib\\site-packages\\pip-10.0.1-py3.6.egg\\pip\\_vendor\\distlib\\scripts.py\n",
      "F:\\PycharmProjects\\线上python01\\day01\\project\\venv\\Lib\\site-packages\\pip-10.0.1-py3.6.egg\\pip\\_vendor\\distlib\\t32.exe\n",
      "F:\\PycharmProjects\\线上python01\\day01\\project\\venv\\Lib\\site-packages\\pip-10.0.1-py3.6.egg\\pip\\_vendor\\distlib\\t64.exe\n",
      "F:\\PycharmProjects\\线上python01\\day01\\project\\venv\\Lib\\site-packages\\pip-10.0.1-py3.6.egg\\pip\\_vendor\\distlib\\util.py\n",
      "F:\\PycharmProjects\\线上python01\\day01\\project\\venv\\Lib\\site-packages\\pip-10.0.1-py3.6.egg\\pip\\_vendor\\distlib\\version.py\n",
      "F:\\PycharmProjects\\线上python01\\day01\\project\\venv\\Lib\\site-packages\\pip-10.0.1-py3.6.egg\\pip\\_vendor\\distlib\\w32.exe\n",
      "F:\\PycharmProjects\\线上python01\\day01\\project\\venv\\Lib\\site-packages\\pip-10.0.1-py3.6.egg\\pip\\_vendor\\distlib\\w64.exe\n",
      "F:\\PycharmProjects\\线上python01\\day01\\project\\venv\\Lib\\site-packages\\pip-10.0.1-py3.6.egg\\pip\\_vendor\\distlib\\wheel.py\n",
      "F:\\PycharmProjects\\线上python01\\day01\\project\\venv\\Lib\\site-packages\\pip-10.0.1-py3.6.egg\\pip\\_vendor\\distlib\\__init__.py\n",
      "F:\\PycharmProjects\\线上python01\\day01\\project\\venv\\Lib\\site-packages\\pip-10.0.1-py3.6.egg\\pip\\_vendor\\distlib\\_backport\\misc.py\n",
      "F:\\PycharmProjects\\线上python01\\day01\\project\\venv\\Lib\\site-packages\\pip-10.0.1-py3.6.egg\\pip\\_vendor\\distlib\\_backport\\shutil.py\n",
      "F:\\PycharmProjects\\线上python01\\day01\\project\\venv\\Lib\\site-packages\\pip-10.0.1-py3.6.egg\\pip\\_vendor\\distlib\\_backport\\sysconfig.cfg\n",
      "F:\\PycharmProjects\\线上python01\\day01\\project\\venv\\Lib\\site-packages\\pip-10.0.1-py3.6.egg\\pip\\_vendor\\distlib\\_backport\\sysconfig.py\n",
      "F:\\PycharmProjects\\线上python01\\day01\\project\\venv\\Lib\\site-packages\\pip-10.0.1-py3.6.egg\\pip\\_vendor\\distlib\\_backport\\tarfile.py\n",
      "F:\\PycharmProjects\\线上python01\\day01\\project\\venv\\Lib\\site-packages\\pip-10.0.1-py3.6.egg\\pip\\_vendor\\distlib\\_backport\\__init__.py\n",
      "F:\\PycharmProjects\\线上python01\\day01\\project\\venv\\Lib\\site-packages\\pip-10.0.1-py3.6.egg\\pip\\_vendor\\colorama\\ansi.py\n",
      "F:\\PycharmProjects\\线上python01\\day01\\project\\venv\\Lib\\site-packages\\pip-10.0.1-py3.6.egg\\pip\\_vendor\\colorama\\ansitowin32.py\n",
      "F:\\PycharmProjects\\线上python01\\day01\\project\\venv\\Lib\\site-packages\\pip-10.0.1-py3.6.egg\\pip\\_vendor\\colorama\\initialise.py\n",
      "F:\\PycharmProjects\\线上python01\\day01\\project\\venv\\Lib\\site-packages\\pip-10.0.1-py3.6.egg\\pip\\_vendor\\colorama\\win32.py\n",
      "F:\\PycharmProjects\\线上python01\\day01\\project\\venv\\Lib\\site-packages\\pip-10.0.1-py3.6.egg\\pip\\_vendor\\colorama\\winterm.py\n",
      "F:\\PycharmProjects\\线上python01\\day01\\project\\venv\\Lib\\site-packages\\pip-10.0.1-py3.6.egg\\pip\\_vendor\\colorama\\__init__.py\n",
      "F:\\PycharmProjects\\线上python01\\day01\\project\\venv\\Lib\\site-packages\\pip-10.0.1-py3.6.egg\\pip\\_vendor\\chardet\\big5freq.py\n",
      "F:\\PycharmProjects\\线上python01\\day01\\project\\venv\\Lib\\site-packages\\pip-10.0.1-py3.6.egg\\pip\\_vendor\\chardet\\big5prober.py\n",
      "F:\\PycharmProjects\\线上python01\\day01\\project\\venv\\Lib\\site-packages\\pip-10.0.1-py3.6.egg\\pip\\_vendor\\chardet\\chardistribution.py\n",
      "F:\\PycharmProjects\\线上python01\\day01\\project\\venv\\Lib\\site-packages\\pip-10.0.1-py3.6.egg\\pip\\_vendor\\chardet\\charsetgroupprober.py\n",
      "F:\\PycharmProjects\\线上python01\\day01\\project\\venv\\Lib\\site-packages\\pip-10.0.1-py3.6.egg\\pip\\_vendor\\chardet\\charsetprober.py\n",
      "F:\\PycharmProjects\\线上python01\\day01\\project\\venv\\Lib\\site-packages\\pip-10.0.1-py3.6.egg\\pip\\_vendor\\chardet\\codingstatemachine.py\n",
      "F:\\PycharmProjects\\线上python01\\day01\\project\\venv\\Lib\\site-packages\\pip-10.0.1-py3.6.egg\\pip\\_vendor\\chardet\\compat.py\n",
      "F:\\PycharmProjects\\线上python01\\day01\\project\\venv\\Lib\\site-packages\\pip-10.0.1-py3.6.egg\\pip\\_vendor\\chardet\\cp949prober.py\n",
      "F:\\PycharmProjects\\线上python01\\day01\\project\\venv\\Lib\\site-packages\\pip-10.0.1-py3.6.egg\\pip\\_vendor\\chardet\\enums.py\n",
      "F:\\PycharmProjects\\线上python01\\day01\\project\\venv\\Lib\\site-packages\\pip-10.0.1-py3.6.egg\\pip\\_vendor\\chardet\\escprober.py\n",
      "F:\\PycharmProjects\\线上python01\\day01\\project\\venv\\Lib\\site-packages\\pip-10.0.1-py3.6.egg\\pip\\_vendor\\chardet\\escsm.py\n",
      "F:\\PycharmProjects\\线上python01\\day01\\project\\venv\\Lib\\site-packages\\pip-10.0.1-py3.6.egg\\pip\\_vendor\\chardet\\eucjpprober.py\n",
      "F:\\PycharmProjects\\线上python01\\day01\\project\\venv\\Lib\\site-packages\\pip-10.0.1-py3.6.egg\\pip\\_vendor\\chardet\\euckrfreq.py\n",
      "F:\\PycharmProjects\\线上python01\\day01\\project\\venv\\Lib\\site-packages\\pip-10.0.1-py3.6.egg\\pip\\_vendor\\chardet\\euckrprober.py\n",
      "F:\\PycharmProjects\\线上python01\\day01\\project\\venv\\Lib\\site-packages\\pip-10.0.1-py3.6.egg\\pip\\_vendor\\chardet\\euctwfreq.py\n",
      "F:\\PycharmProjects\\线上python01\\day01\\project\\venv\\Lib\\site-packages\\pip-10.0.1-py3.6.egg\\pip\\_vendor\\chardet\\euctwprober.py\n",
      "F:\\PycharmProjects\\线上python01\\day01\\project\\venv\\Lib\\site-packages\\pip-10.0.1-py3.6.egg\\pip\\_vendor\\chardet\\gb2312freq.py\n",
      "F:\\PycharmProjects\\线上python01\\day01\\project\\venv\\Lib\\site-packages\\pip-10.0.1-py3.6.egg\\pip\\_vendor\\chardet\\gb2312prober.py\n",
      "F:\\PycharmProjects\\线上python01\\day01\\project\\venv\\Lib\\site-packages\\pip-10.0.1-py3.6.egg\\pip\\_vendor\\chardet\\hebrewprober.py\n",
      "F:\\PycharmProjects\\线上python01\\day01\\project\\venv\\Lib\\site-packages\\pip-10.0.1-py3.6.egg\\pip\\_vendor\\chardet\\jisfreq.py\n",
      "F:\\PycharmProjects\\线上python01\\day01\\project\\venv\\Lib\\site-packages\\pip-10.0.1-py3.6.egg\\pip\\_vendor\\chardet\\jpcntx.py\n",
      "F:\\PycharmProjects\\线上python01\\day01\\project\\venv\\Lib\\site-packages\\pip-10.0.1-py3.6.egg\\pip\\_vendor\\chardet\\langbulgarianmodel.py\n",
      "F:\\PycharmProjects\\线上python01\\day01\\project\\venv\\Lib\\site-packages\\pip-10.0.1-py3.6.egg\\pip\\_vendor\\chardet\\langcyrillicmodel.py\n",
      "F:\\PycharmProjects\\线上python01\\day01\\project\\venv\\Lib\\site-packages\\pip-10.0.1-py3.6.egg\\pip\\_vendor\\chardet\\langgreekmodel.py\n",
      "F:\\PycharmProjects\\线上python01\\day01\\project\\venv\\Lib\\site-packages\\pip-10.0.1-py3.6.egg\\pip\\_vendor\\chardet\\langhebrewmodel.py\n",
      "F:\\PycharmProjects\\线上python01\\day01\\project\\venv\\Lib\\site-packages\\pip-10.0.1-py3.6.egg\\pip\\_vendor\\chardet\\langhungarianmodel.py\n",
      "F:\\PycharmProjects\\线上python01\\day01\\project\\venv\\Lib\\site-packages\\pip-10.0.1-py3.6.egg\\pip\\_vendor\\chardet\\langthaimodel.py\n",
      "F:\\PycharmProjects\\线上python01\\day01\\project\\venv\\Lib\\site-packages\\pip-10.0.1-py3.6.egg\\pip\\_vendor\\chardet\\langturkishmodel.py\n",
      "F:\\PycharmProjects\\线上python01\\day01\\project\\venv\\Lib\\site-packages\\pip-10.0.1-py3.6.egg\\pip\\_vendor\\chardet\\latin1prober.py\n",
      "F:\\PycharmProjects\\线上python01\\day01\\project\\venv\\Lib\\site-packages\\pip-10.0.1-py3.6.egg\\pip\\_vendor\\chardet\\mbcharsetprober.py\n",
      "F:\\PycharmProjects\\线上python01\\day01\\project\\venv\\Lib\\site-packages\\pip-10.0.1-py3.6.egg\\pip\\_vendor\\chardet\\mbcsgroupprober.py\n",
      "F:\\PycharmProjects\\线上python01\\day01\\project\\venv\\Lib\\site-packages\\pip-10.0.1-py3.6.egg\\pip\\_vendor\\chardet\\mbcssm.py\n",
      "F:\\PycharmProjects\\线上python01\\day01\\project\\venv\\Lib\\site-packages\\pip-10.0.1-py3.6.egg\\pip\\_vendor\\chardet\\sbcharsetprober.py\n",
      "F:\\PycharmProjects\\线上python01\\day01\\project\\venv\\Lib\\site-packages\\pip-10.0.1-py3.6.egg\\pip\\_vendor\\chardet\\sbcsgroupprober.py\n",
      "F:\\PycharmProjects\\线上python01\\day01\\project\\venv\\Lib\\site-packages\\pip-10.0.1-py3.6.egg\\pip\\_vendor\\chardet\\sjisprober.py\n",
      "F:\\PycharmProjects\\线上python01\\day01\\project\\venv\\Lib\\site-packages\\pip-10.0.1-py3.6.egg\\pip\\_vendor\\chardet\\universaldetector.py\n",
      "F:\\PycharmProjects\\线上python01\\day01\\project\\venv\\Lib\\site-packages\\pip-10.0.1-py3.6.egg\\pip\\_vendor\\chardet\\utf8prober.py\n",
      "F:\\PycharmProjects\\线上python01\\day01\\project\\venv\\Lib\\site-packages\\pip-10.0.1-py3.6.egg\\pip\\_vendor\\chardet\\version.py\n",
      "F:\\PycharmProjects\\线上python01\\day01\\project\\venv\\Lib\\site-packages\\pip-10.0.1-py3.6.egg\\pip\\_vendor\\chardet\\__init__.py\n",
      "F:\\PycharmProjects\\线上python01\\day01\\project\\venv\\Lib\\site-packages\\pip-10.0.1-py3.6.egg\\pip\\_vendor\\chardet\\cli\\chardetect.py\n",
      "F:\\PycharmProjects\\线上python01\\day01\\project\\venv\\Lib\\site-packages\\pip-10.0.1-py3.6.egg\\pip\\_vendor\\chardet\\cli\\__init__.py\n",
      "F:\\PycharmProjects\\线上python01\\day01\\project\\venv\\Lib\\site-packages\\pip-10.0.1-py3.6.egg\\pip\\_vendor\\certifi\\cacert.pem\n",
      "F:\\PycharmProjects\\线上python01\\day01\\project\\venv\\Lib\\site-packages\\pip-10.0.1-py3.6.egg\\pip\\_vendor\\certifi\\core.py\n",
      "F:\\PycharmProjects\\线上python01\\day01\\project\\venv\\Lib\\site-packages\\pip-10.0.1-py3.6.egg\\pip\\_vendor\\certifi\\__init__.py\n",
      "F:\\PycharmProjects\\线上python01\\day01\\project\\venv\\Lib\\site-packages\\pip-10.0.1-py3.6.egg\\pip\\_vendor\\certifi\\__main__.py\n",
      "F:\\PycharmProjects\\线上python01\\day01\\project\\venv\\Lib\\site-packages\\pip-10.0.1-py3.6.egg\\pip\\_vendor\\cachecontrol\\adapter.py\n",
      "F:\\PycharmProjects\\线上python01\\day01\\project\\venv\\Lib\\site-packages\\pip-10.0.1-py3.6.egg\\pip\\_vendor\\cachecontrol\\cache.py\n",
      "F:\\PycharmProjects\\线上python01\\day01\\project\\venv\\Lib\\site-packages\\pip-10.0.1-py3.6.egg\\pip\\_vendor\\cachecontrol\\compat.py\n",
      "F:\\PycharmProjects\\线上python01\\day01\\project\\venv\\Lib\\site-packages\\pip-10.0.1-py3.6.egg\\pip\\_vendor\\cachecontrol\\controller.py\n",
      "F:\\PycharmProjects\\线上python01\\day01\\project\\venv\\Lib\\site-packages\\pip-10.0.1-py3.6.egg\\pip\\_vendor\\cachecontrol\\filewrapper.py\n",
      "F:\\PycharmProjects\\线上python01\\day01\\project\\venv\\Lib\\site-packages\\pip-10.0.1-py3.6.egg\\pip\\_vendor\\cachecontrol\\heuristics.py\n",
      "F:\\PycharmProjects\\线上python01\\day01\\project\\venv\\Lib\\site-packages\\pip-10.0.1-py3.6.egg\\pip\\_vendor\\cachecontrol\\serialize.py\n",
      "F:\\PycharmProjects\\线上python01\\day01\\project\\venv\\Lib\\site-packages\\pip-10.0.1-py3.6.egg\\pip\\_vendor\\cachecontrol\\wrapper.py\n",
      "F:\\PycharmProjects\\线上python01\\day01\\project\\venv\\Lib\\site-packages\\pip-10.0.1-py3.6.egg\\pip\\_vendor\\cachecontrol\\_cmd.py\n",
      "F:\\PycharmProjects\\线上python01\\day01\\project\\venv\\Lib\\site-packages\\pip-10.0.1-py3.6.egg\\pip\\_vendor\\cachecontrol\\__init__.py\n",
      "F:\\PycharmProjects\\线上python01\\day01\\project\\venv\\Lib\\site-packages\\pip-10.0.1-py3.6.egg\\pip\\_vendor\\cachecontrol\\caches\\file_cache.py\n",
      "F:\\PycharmProjects\\线上python01\\day01\\project\\venv\\Lib\\site-packages\\pip-10.0.1-py3.6.egg\\pip\\_vendor\\cachecontrol\\caches\\redis_cache.py\n",
      "F:\\PycharmProjects\\线上python01\\day01\\project\\venv\\Lib\\site-packages\\pip-10.0.1-py3.6.egg\\pip\\_vendor\\cachecontrol\\caches\\__init__.py\n",
      "F:\\PycharmProjects\\线上python01\\day01\\project\\venv\\Lib\\site-packages\\pip-10.0.1-py3.6.egg\\pip\\_internal\\basecommand.py\n",
      "F:\\PycharmProjects\\线上python01\\day01\\project\\venv\\Lib\\site-packages\\pip-10.0.1-py3.6.egg\\pip\\_internal\\baseparser.py\n",
      "F:\\PycharmProjects\\线上python01\\day01\\project\\venv\\Lib\\site-packages\\pip-10.0.1-py3.6.egg\\pip\\_internal\\build_env.py\n",
      "F:\\PycharmProjects\\线上python01\\day01\\project\\venv\\Lib\\site-packages\\pip-10.0.1-py3.6.egg\\pip\\_internal\\cache.py\n",
      "F:\\PycharmProjects\\线上python01\\day01\\project\\venv\\Lib\\site-packages\\pip-10.0.1-py3.6.egg\\pip\\_internal\\cmdoptions.py\n",
      "F:\\PycharmProjects\\线上python01\\day01\\project\\venv\\Lib\\site-packages\\pip-10.0.1-py3.6.egg\\pip\\_internal\\compat.py\n",
      "F:\\PycharmProjects\\线上python01\\day01\\project\\venv\\Lib\\site-packages\\pip-10.0.1-py3.6.egg\\pip\\_internal\\configuration.py\n",
      "F:\\PycharmProjects\\线上python01\\day01\\project\\venv\\Lib\\site-packages\\pip-10.0.1-py3.6.egg\\pip\\_internal\\download.py\n",
      "F:\\PycharmProjects\\线上python01\\day01\\project\\venv\\Lib\\site-packages\\pip-10.0.1-py3.6.egg\\pip\\_internal\\exceptions.py\n",
      "F:\\PycharmProjects\\线上python01\\day01\\project\\venv\\Lib\\site-packages\\pip-10.0.1-py3.6.egg\\pip\\_internal\\index.py\n",
      "F:\\PycharmProjects\\线上python01\\day01\\project\\venv\\Lib\\site-packages\\pip-10.0.1-py3.6.egg\\pip\\_internal\\locations.py\n",
      "F:\\PycharmProjects\\线上python01\\day01\\project\\venv\\Lib\\site-packages\\pip-10.0.1-py3.6.egg\\pip\\_internal\\pep425tags.py\n",
      "F:\\PycharmProjects\\线上python01\\day01\\project\\venv\\Lib\\site-packages\\pip-10.0.1-py3.6.egg\\pip\\_internal\\resolve.py\n",
      "F:\\PycharmProjects\\线上python01\\day01\\project\\venv\\Lib\\site-packages\\pip-10.0.1-py3.6.egg\\pip\\_internal\\status_codes.py\n",
      "F:\\PycharmProjects\\线上python01\\day01\\project\\venv\\Lib\\site-packages\\pip-10.0.1-py3.6.egg\\pip\\_internal\\wheel.py\n",
      "F:\\PycharmProjects\\线上python01\\day01\\project\\venv\\Lib\\site-packages\\pip-10.0.1-py3.6.egg\\pip\\_internal\\__init__.py\n",
      "F:\\PycharmProjects\\线上python01\\day01\\project\\venv\\Lib\\site-packages\\pip-10.0.1-py3.6.egg\\pip\\_internal\\vcs\\bazaar.py\n",
      "F:\\PycharmProjects\\线上python01\\day01\\project\\venv\\Lib\\site-packages\\pip-10.0.1-py3.6.egg\\pip\\_internal\\vcs\\git.py\n",
      "F:\\PycharmProjects\\线上python01\\day01\\project\\venv\\Lib\\site-packages\\pip-10.0.1-py3.6.egg\\pip\\_internal\\vcs\\mercurial.py\n",
      "F:\\PycharmProjects\\线上python01\\day01\\project\\venv\\Lib\\site-packages\\pip-10.0.1-py3.6.egg\\pip\\_internal\\vcs\\subversion.py\n",
      "F:\\PycharmProjects\\线上python01\\day01\\project\\venv\\Lib\\site-packages\\pip-10.0.1-py3.6.egg\\pip\\_internal\\vcs\\__init__.py\n",
      "F:\\PycharmProjects\\线上python01\\day01\\project\\venv\\Lib\\site-packages\\pip-10.0.1-py3.6.egg\\pip\\_internal\\utils\\appdirs.py\n",
      "F:\\PycharmProjects\\线上python01\\day01\\project\\venv\\Lib\\site-packages\\pip-10.0.1-py3.6.egg\\pip\\_internal\\utils\\deprecation.py\n",
      "F:\\PycharmProjects\\线上python01\\day01\\project\\venv\\Lib\\site-packages\\pip-10.0.1-py3.6.egg\\pip\\_internal\\utils\\encoding.py\n",
      "F:\\PycharmProjects\\线上python01\\day01\\project\\venv\\Lib\\site-packages\\pip-10.0.1-py3.6.egg\\pip\\_internal\\utils\\filesystem.py\n",
      "F:\\PycharmProjects\\线上python01\\day01\\project\\venv\\Lib\\site-packages\\pip-10.0.1-py3.6.egg\\pip\\_internal\\utils\\glibc.py\n",
      "F:\\PycharmProjects\\线上python01\\day01\\project\\venv\\Lib\\site-packages\\pip-10.0.1-py3.6.egg\\pip\\_internal\\utils\\hashes.py\n",
      "F:\\PycharmProjects\\线上python01\\day01\\project\\venv\\Lib\\site-packages\\pip-10.0.1-py3.6.egg\\pip\\_internal\\utils\\logging.py\n",
      "F:\\PycharmProjects\\线上python01\\day01\\project\\venv\\Lib\\site-packages\\pip-10.0.1-py3.6.egg\\pip\\_internal\\utils\\misc.py\n",
      "F:\\PycharmProjects\\线上python01\\day01\\project\\venv\\Lib\\site-packages\\pip-10.0.1-py3.6.egg\\pip\\_internal\\utils\\outdated.py\n",
      "F:\\PycharmProjects\\线上python01\\day01\\project\\venv\\Lib\\site-packages\\pip-10.0.1-py3.6.egg\\pip\\_internal\\utils\\packaging.py\n",
      "F:\\PycharmProjects\\线上python01\\day01\\project\\venv\\Lib\\site-packages\\pip-10.0.1-py3.6.egg\\pip\\_internal\\utils\\setuptools_build.py\n",
      "F:\\PycharmProjects\\线上python01\\day01\\project\\venv\\Lib\\site-packages\\pip-10.0.1-py3.6.egg\\pip\\_internal\\utils\\temp_dir.py\n",
      "F:\\PycharmProjects\\线上python01\\day01\\project\\venv\\Lib\\site-packages\\pip-10.0.1-py3.6.egg\\pip\\_internal\\utils\\typing.py\n",
      "F:\\PycharmProjects\\线上python01\\day01\\project\\venv\\Lib\\site-packages\\pip-10.0.1-py3.6.egg\\pip\\_internal\\utils\\ui.py\n",
      "F:\\PycharmProjects\\线上python01\\day01\\project\\venv\\Lib\\site-packages\\pip-10.0.1-py3.6.egg\\pip\\_internal\\utils\\__init__.py\n",
      "F:\\PycharmProjects\\线上python01\\day01\\project\\venv\\Lib\\site-packages\\pip-10.0.1-py3.6.egg\\pip\\_internal\\req\\req_file.py\n",
      "F:\\PycharmProjects\\线上python01\\day01\\project\\venv\\Lib\\site-packages\\pip-10.0.1-py3.6.egg\\pip\\_internal\\req\\req_install.py\n",
      "F:\\PycharmProjects\\线上python01\\day01\\project\\venv\\Lib\\site-packages\\pip-10.0.1-py3.6.egg\\pip\\_internal\\req\\req_set.py\n",
      "F:\\PycharmProjects\\线上python01\\day01\\project\\venv\\Lib\\site-packages\\pip-10.0.1-py3.6.egg\\pip\\_internal\\req\\req_uninstall.py\n",
      "F:\\PycharmProjects\\线上python01\\day01\\project\\venv\\Lib\\site-packages\\pip-10.0.1-py3.6.egg\\pip\\_internal\\req\\__init__.py\n",
      "F:\\PycharmProjects\\线上python01\\day01\\project\\venv\\Lib\\site-packages\\pip-10.0.1-py3.6.egg\\pip\\_internal\\operations\\check.py\n",
      "F:\\PycharmProjects\\线上python01\\day01\\project\\venv\\Lib\\site-packages\\pip-10.0.1-py3.6.egg\\pip\\_internal\\operations\\freeze.py\n",
      "F:\\PycharmProjects\\线上python01\\day01\\project\\venv\\Lib\\site-packages\\pip-10.0.1-py3.6.egg\\pip\\_internal\\operations\\prepare.py\n",
      "F:\\PycharmProjects\\线上python01\\day01\\project\\venv\\Lib\\site-packages\\pip-10.0.1-py3.6.egg\\pip\\_internal\\operations\\__init__.py\n",
      "F:\\PycharmProjects\\线上python01\\day01\\project\\venv\\Lib\\site-packages\\pip-10.0.1-py3.6.egg\\pip\\_internal\\models\\index.py\n",
      "F:\\PycharmProjects\\线上python01\\day01\\project\\venv\\Lib\\site-packages\\pip-10.0.1-py3.6.egg\\pip\\_internal\\models\\__init__.py\n",
      "F:\\PycharmProjects\\线上python01\\day01\\project\\venv\\Lib\\site-packages\\pip-10.0.1-py3.6.egg\\pip\\_internal\\commands\\check.py\n",
      "F:\\PycharmProjects\\线上python01\\day01\\project\\venv\\Lib\\site-packages\\pip-10.0.1-py3.6.egg\\pip\\_internal\\commands\\completion.py\n",
      "F:\\PycharmProjects\\线上python01\\day01\\project\\venv\\Lib\\site-packages\\pip-10.0.1-py3.6.egg\\pip\\_internal\\commands\\configuration.py\n",
      "F:\\PycharmProjects\\线上python01\\day01\\project\\venv\\Lib\\site-packages\\pip-10.0.1-py3.6.egg\\pip\\_internal\\commands\\download.py\n",
      "F:\\PycharmProjects\\线上python01\\day01\\project\\venv\\Lib\\site-packages\\pip-10.0.1-py3.6.egg\\pip\\_internal\\commands\\freeze.py\n",
      "F:\\PycharmProjects\\线上python01\\day01\\project\\venv\\Lib\\site-packages\\pip-10.0.1-py3.6.egg\\pip\\_internal\\commands\\hash.py\n",
      "F:\\PycharmProjects\\线上python01\\day01\\project\\venv\\Lib\\site-packages\\pip-10.0.1-py3.6.egg\\pip\\_internal\\commands\\help.py\n",
      "F:\\PycharmProjects\\线上python01\\day01\\project\\venv\\Lib\\site-packages\\pip-10.0.1-py3.6.egg\\pip\\_internal\\commands\\install.py\n",
      "F:\\PycharmProjects\\线上python01\\day01\\project\\venv\\Lib\\site-packages\\pip-10.0.1-py3.6.egg\\pip\\_internal\\commands\\list.py\n",
      "F:\\PycharmProjects\\线上python01\\day01\\project\\venv\\Lib\\site-packages\\pip-10.0.1-py3.6.egg\\pip\\_internal\\commands\\search.py\n",
      "F:\\PycharmProjects\\线上python01\\day01\\project\\venv\\Lib\\site-packages\\pip-10.0.1-py3.6.egg\\pip\\_internal\\commands\\show.py\n",
      "F:\\PycharmProjects\\线上python01\\day01\\project\\venv\\Lib\\site-packages\\pip-10.0.1-py3.6.egg\\pip\\_internal\\commands\\uninstall.py\n",
      "F:\\PycharmProjects\\线上python01\\day01\\project\\venv\\Lib\\site-packages\\pip-10.0.1-py3.6.egg\\pip\\_internal\\commands\\wheel.py\n",
      "F:\\PycharmProjects\\线上python01\\day01\\project\\venv\\Lib\\site-packages\\pip-10.0.1-py3.6.egg\\pip\\_internal\\commands\\__init__.py\n",
      "F:\\PycharmProjects\\线上python01\\day01\\project\\venv\\Lib\\site-packages\\pip-10.0.1-py3.6.egg\\EGG-INFO\\dependency_links.txt\n",
      "F:\\PycharmProjects\\线上python01\\day01\\project\\venv\\Lib\\site-packages\\pip-10.0.1-py3.6.egg\\EGG-INFO\\entry_points.txt\n",
      "F:\\PycharmProjects\\线上python01\\day01\\project\\venv\\Lib\\site-packages\\pip-10.0.1-py3.6.egg\\EGG-INFO\\not-zip-safe\n",
      "F:\\PycharmProjects\\线上python01\\day01\\project\\venv\\Lib\\site-packages\\pip-10.0.1-py3.6.egg\\EGG-INFO\\PKG-INFO\n",
      "F:\\PycharmProjects\\线上python01\\day01\\project\\venv\\Lib\\site-packages\\pip-10.0.1-py3.6.egg\\EGG-INFO\\requires.txt\n",
      "F:\\PycharmProjects\\线上python01\\day01\\project\\venv\\Lib\\site-packages\\pip-10.0.1-py3.6.egg\\EGG-INFO\\SOURCES.txt\n",
      "F:\\PycharmProjects\\线上python01\\day01\\project\\venv\\Lib\\site-packages\\pip-10.0.1-py3.6.egg\\EGG-INFO\\top_level.txt\n",
      "F:\\PycharmProjects\\线上python01\\day01\\project\\venv\\Lib\\site-packages\\keywords-0.0.1-py3.6.egg-info\\dependency_links.txt\n",
      "F:\\PycharmProjects\\线上python01\\day01\\project\\venv\\Lib\\site-packages\\keywords-0.0.1-py3.6.egg-info\\installed-files.txt\n",
      "F:\\PycharmProjects\\线上python01\\day01\\project\\venv\\Lib\\site-packages\\keywords-0.0.1-py3.6.egg-info\\PKG-INFO\n",
      "F:\\PycharmProjects\\线上python01\\day01\\project\\venv\\Lib\\site-packages\\keywords-0.0.1-py3.6.egg-info\\SOURCES.txt\n",
      "F:\\PycharmProjects\\线上python01\\day01\\project\\venv\\Lib\\site-packages\\keywords-0.0.1-py3.6.egg-info\\top_level.txt\n",
      "F:\\PycharmProjects\\线上python01\\day01\\project\\.idea\\encodings.xml\n",
      "F:\\PycharmProjects\\线上python01\\day01\\project\\.idea\\misc.xml\n",
      "F:\\PycharmProjects\\线上python01\\day01\\project\\.idea\\modules.xml\n",
      "F:\\PycharmProjects\\线上python01\\day01\\project\\.idea\\project.iml\n",
      "F:\\PycharmProjects\\线上python01\\day01\\project\\.idea\\workspace.xml\n"
     ]
    }
   ],
   "source": [
    "#数据结构\n",
    "#栈  先进后出  压栈\n",
    "\n",
    "#队列  先进先出\n",
    "\n",
    "#遍历;栈  先进后出 深度遍历\n",
    "#os.path.join()：  将多个路径组合后返回    \n",
    "import os\n",
    "def getAll(path):\n",
    "    mylist=[]\n",
    "    ptFlieList=[]\n",
    "    mylist.append(path) #压栈\n",
    "    \n",
    "    while len(mylist)!=0:\n",
    "        onePath=mylist.pop() #出栈\n",
    "        #遍历目录下的所有文件\n",
    "        fileList=os.listdir(onePath)\n",
    "        for filename in fileList:\n",
    "            absPath=os.path.join(onePath,filename)\n",
    "#             if os.path.isfile(absPath):\n",
    "#                 ptFileList.append(absPath)\n",
    "#             else:\n",
    "#                 mylist.append(absPath)\n",
    "            #如果是目录，则压栈\n",
    "            if os.path.isdir(absPath):\n",
    "                mylist.append(absPath)\n",
    "                \n",
    "            else:\n",
    "                \n",
    "                #读取文件路径\n",
    "                ptFlieList.append(absPath)\n",
    "    return ptFlieList\n",
    "           \n",
    "\n",
    "arr=getAll(r\"F:\\PycharmProjects\\线上python01\\day01\\project\")\n",
    "for item in arr:\n",
    "    print(item)\n",
    "    \n",
    "    \n",
    "    \n",
    "    \n",
    "    \n",
    " #队列：按层遍历  广度遍历    \n",
    "#广度遍历\n"
   ]
  },
  {
   "cell_type": "code",
   "execution_count": 52,
   "metadata": {},
   "outputs": [
    {
     "name": "stdout",
     "output_type": "stream",
     "text": [
      "1558341117.593494\n",
      "time.struct_time(tm_year=2019, tm_mon=5, tm_mday=20, tm_hour=8, tm_min=31, tm_sec=57, tm_wday=0, tm_yday=140, tm_isdst=0)\n",
      "time.struct_time(tm_year=2019, tm_mon=5, tm_mday=20, tm_hour=16, tm_min=31, tm_sec=57, tm_wday=0, tm_yday=140, tm_isdst=0)\n",
      "1558341117.0\n",
      "Mon May 20 16:31:57 2019\n",
      "Mon May 20 16:31:57 2019\n",
      "2019-31-05/20/19\n"
     ]
    }
   ],
   "source": [
    "#time模块  时间戳1970-1-1 0时\n",
    " \n",
    "                                         \n",
    "import time\n",
    "print(time.time())\n",
    "\n",
    "#gmtime 将时间戳转为元组格式\n",
    "\n",
    "t=time.gmtime(time.time())\n",
    "print(t)\n",
    "#本地时间元组\n",
    "t1=time.localtime()\n",
    "print(t1)\n",
    "#转化为本地的时间戳\n",
    "t2=time.mktime(t1)\n",
    "print(t2)  \n",
    "#时间元组到字符串 asctime\n",
    "t3=time.asctime(t1)\n",
    "print(t3)\n",
    "\n",
    "\n",
    "\n",
    "\n",
    "#时间戳转字符串\n",
    "t4=time.ctime(t2)  #相当与 asctime(time.localtime())\n",
    "print(t4)\n",
    "\n",
    "\n",
    "\n",
    "t5=time.strftime(\"%Y-%M-%D\",t1)\n",
    "print(t5)\n",
    "\n",
    "t6=time.strptime\n",
    "\n",
    "\n",
    "time.sleep(1)"
   ]
  },
  {
   "cell_type": "code",
   "execution_count": null,
   "metadata": {},
   "outputs": [],
   "source": [
    "#自定义模块   将相同功能的模块封装在一起，用import调用\n",
    "import math\n",
    "from A import B    #从A模块中引入B函数"
   ]
  },
  {
   "cell_type": "code",
   "execution_count": 4,
   "metadata": {},
   "outputs": [
    {
     "ename": "KeyError",
     "evalue": "'JPG'",
     "output_type": "error",
     "traceback": [
      "\u001b[1;31m---------------------------------------------------------------------------\u001b[0m",
      "\u001b[1;31mKeyError\u001b[0m                                  Traceback (most recent call last)",
      "\u001b[1;32m<ipython-input-4-2fa326e1341e>\u001b[0m in \u001b[0;36m<module>\u001b[1;34m\u001b[0m\n\u001b[0;32m      4\u001b[0m \u001b[0mima\u001b[0m\u001b[1;33m=\u001b[0m\u001b[0mImage\u001b[0m\u001b[1;33m.\u001b[0m\u001b[0mopen\u001b[0m\u001b[1;33m(\u001b[0m\u001b[1;34m\"C:\\\\Users\\\\Administrator\\\\Desktop\\\\2222.jpg\"\u001b[0m\u001b[1;33m)\u001b[0m\u001b[1;33m\u001b[0m\u001b[1;33m\u001b[0m\u001b[0m\n\u001b[0;32m      5\u001b[0m \u001b[0mima\u001b[0m\u001b[1;33m.\u001b[0m\u001b[0mthumbnail\u001b[0m\u001b[1;33m(\u001b[0m\u001b[1;33m(\u001b[0m\u001b[1;36m192\u001b[0m\u001b[1;33m,\u001b[0m\u001b[1;36m108\u001b[0m\u001b[1;33m)\u001b[0m\u001b[1;33m)\u001b[0m\u001b[1;33m\u001b[0m\u001b[1;33m\u001b[0m\u001b[0m\n\u001b[1;32m----> 6\u001b[1;33m \u001b[0mima\u001b[0m\u001b[1;33m.\u001b[0m\u001b[0msave\u001b[0m\u001b[1;33m(\u001b[0m\u001b[1;34m\"C:\\\\Users\\\\Administrator\\\\Desktop\\\\2.jpg\"\u001b[0m\u001b[1;33m,\u001b[0m\u001b[1;34m\"JPG\"\u001b[0m\u001b[1;33m)\u001b[0m\u001b[1;33m\u001b[0m\u001b[1;33m\u001b[0m\u001b[0m\n\u001b[0m",
      "\u001b[1;32mD:\\Anaconda3\\lib\\site-packages\\PIL\\Image.py\u001b[0m in \u001b[0;36msave\u001b[1;34m(self, fp, format, **params)\u001b[0m\n\u001b[0;32m   1956\u001b[0m             \u001b[0msave_handler\u001b[0m \u001b[1;33m=\u001b[0m \u001b[0mSAVE_ALL\u001b[0m\u001b[1;33m[\u001b[0m\u001b[0mformat\u001b[0m\u001b[1;33m.\u001b[0m\u001b[0mupper\u001b[0m\u001b[1;33m(\u001b[0m\u001b[1;33m)\u001b[0m\u001b[1;33m]\u001b[0m\u001b[1;33m\u001b[0m\u001b[1;33m\u001b[0m\u001b[0m\n\u001b[0;32m   1957\u001b[0m         \u001b[1;32melse\u001b[0m\u001b[1;33m:\u001b[0m\u001b[1;33m\u001b[0m\u001b[1;33m\u001b[0m\u001b[0m\n\u001b[1;32m-> 1958\u001b[1;33m             \u001b[0msave_handler\u001b[0m \u001b[1;33m=\u001b[0m \u001b[0mSAVE\u001b[0m\u001b[1;33m[\u001b[0m\u001b[0mformat\u001b[0m\u001b[1;33m.\u001b[0m\u001b[0mupper\u001b[0m\u001b[1;33m(\u001b[0m\u001b[1;33m)\u001b[0m\u001b[1;33m]\u001b[0m\u001b[1;33m\u001b[0m\u001b[1;33m\u001b[0m\u001b[0m\n\u001b[0m\u001b[0;32m   1959\u001b[0m \u001b[1;33m\u001b[0m\u001b[0m\n\u001b[0;32m   1960\u001b[0m         \u001b[1;32mif\u001b[0m \u001b[0mopen_fp\u001b[0m\u001b[1;33m:\u001b[0m\u001b[1;33m\u001b[0m\u001b[1;33m\u001b[0m\u001b[0m\n",
      "\u001b[1;31mKeyError\u001b[0m: 'JPG'"
     ]
    }
   ],
   "source": [
    "#缩略图\n",
    "\n",
    "from PIL import Image\n",
    "ima=Image.open(\"C:\\\\Users\\\\Administrator\\\\Desktop\\\\2222.jpg\")\n",
    "ima.thumbnail((192,108))\n",
    "ima.save(\"C:\\\\Users\\\\Administrator\\\\Desktop\\\\2.jpg\",\"JPG\")"
   ]
  },
  {
   "cell_type": "code",
   "execution_count": 35,
   "metadata": {},
   "outputs": [
    {
     "name": "stdout",
     "output_type": "stream",
     "text": [
      "<__main__.Person object at 0x0000029836D60F98>\n",
      "18\n",
      "爬\n",
      "吃饭\n"
     ]
    }
   ],
   "source": [
    "#面向对象 object  称为基类，当没有特定类别时，使用object\n",
    "class Person(object):\n",
    "        #定义属性\n",
    "        name=0      \n",
    "        age=0\n",
    "        height=0\n",
    "        \n",
    "        \n",
    "        \n",
    "        #定义行为\n",
    "        def run(self):\n",
    "            print('爬')\n",
    "        def eat(self,food):\n",
    "            print(\"吃%s\"%food)\n",
    "            \n",
    "#实例化对象\n",
    "per1=Person()\n",
    "print(per1)\n",
    "#打印的是堆区内存地址，每次都不同  对象的地址\n",
    "#用上述方法，每个对象（per1,per2....）的初始值相同，如果不同使用下面的构造函数\n",
    "\n",
    "\n",
    "#访问对象的属性和行为\n",
    "#访问对象的属性   格式：对象名.属性名    \n",
    "per1.name=18\n",
    "print(per1.name)   #打印属性没有（）括号\n",
    "#访问对象的行为   格式： 对象名.行为名（参数）\n",
    "per1.run()  \n",
    "per1.eat(\"饭\")      #打印行为有（）括号\n",
    "\n"
   ]
  },
  {
   "cell_type": "code",
   "execution_count": 37,
   "metadata": {},
   "outputs": [
    {
     "name": "stdout",
     "output_type": "stream",
     "text": [
      "yqh\n",
      "180\n"
     ]
    }
   ],
   "source": [
    "#构造函数 __init__     重点\n",
    "class Person(object):\n",
    "            #定义属性\n",
    "#         name=0      不在此处定义了\n",
    "\n",
    "#         age=0\n",
    "#         height=0\n",
    "            \n",
    "        #定义行为\n",
    "        def run(self):\n",
    "            print('爬')\n",
    "        def eat(self,food):\n",
    "            print(\"吃%s\"%food)\n",
    "          #tname,tage,theight 形参  \n",
    "        def __init__(self,tname,tage,theight):\n",
    "            self.name=tname\n",
    "            self.age=tage\n",
    "            self.height=theight\n",
    "        \n",
    "per1=Person(\"yqh\",18,165)    \n",
    "print(per1.name)   #可见：self代表的是实例per1或者per2，而非类\n",
    "#也可以理解为：谁来调用方法，self就代表谁  比如此处是per1和per2调用的\n",
    "\n",
    "per2=Person(\"quyue\",25,180)\n",
    "print(per2.height)\n",
    "\n",
    "\n",
    "\n",
    "#形参的访问限制\n",
    "比如name不可修改，外部不可访问，则修改为__name,打印写成 _Person__name"
   ]
  },
  {
   "cell_type": "code",
   "execution_count": 14,
   "metadata": {},
   "outputs": [
    {
     "name": "stdout",
     "output_type": "stream",
     "text": [
      "跑\n"
     ]
    },
    {
     "ename": "TypeError",
     "evalue": "__init__() missing 2 required positional arguments: 'name' and 'age'",
     "output_type": "error",
     "traceback": [
      "\u001b[1;31m---------------------------------------------------------------------------\u001b[0m",
      "\u001b[1;31mTypeError\u001b[0m                                 Traceback (most recent call last)",
      "\u001b[1;32m<ipython-input-14-744ffa5494f7>\u001b[0m in \u001b[0;36m<module>\u001b[1;34m\u001b[0m\n\u001b[0;32m     23\u001b[0m \u001b[1;33m\u001b[0m\u001b[0m\n\u001b[0;32m     24\u001b[0m \u001b[1;31m#如果父类中的方法不对外开放，不可修改，则使用MethodType()进行修改\u001b[0m\u001b[1;33m\u001b[0m\u001b[1;33m\u001b[0m\u001b[1;33m\u001b[0m\u001b[0m\n\u001b[1;32m---> 25\u001b[1;33m \u001b[0ma\u001b[0m\u001b[1;33m=\u001b[0m\u001b[0mFulei\u001b[0m\u001b[1;33m(\u001b[0m\u001b[1;33m)\u001b[0m\u001b[1;33m\u001b[0m\u001b[1;33m\u001b[0m\u001b[0m\n\u001b[0m\u001b[0;32m     26\u001b[0m \u001b[0ma\u001b[0m\u001b[1;33m.\u001b[0m\u001b[0msleep\u001b[0m\u001b[1;33m=\u001b[0m\u001b[0mMethodType\u001b[0m\u001b[1;33m(\u001b[0m\u001b[0msleep\u001b[0m\u001b[1;33m,\u001b[0m\u001b[0ma\u001b[0m\u001b[1;33m)\u001b[0m\u001b[1;33m\u001b[0m\u001b[1;33m\u001b[0m\u001b[0m\n\u001b[0;32m     27\u001b[0m \u001b[0ma\u001b[0m\u001b[1;33m.\u001b[0m\u001b[0msleep\u001b[0m\u001b[1;33m(\u001b[0m\u001b[1;33m)\u001b[0m\u001b[1;33m\u001b[0m\u001b[1;33m\u001b[0m\u001b[0m\n",
      "\u001b[1;31mTypeError\u001b[0m: __init__() missing 2 required positional arguments: 'name' and 'age'"
     ]
    }
   ],
   "source": [
    " #继承  优点：重复属性都可在父类一次定义完      缺点：高耦合高内聚\n",
    "##########################################################################模板\n",
    "class Fulei(object):\n",
    "    def __init__(self,name,age):    #定义属性\n",
    "        self.name=name              #self.__name=name此时的name为私有属性\n",
    "        self.age=age\n",
    "    def run(self):                  #定义方法 类方法中的括号内的（self）千万不要漏掉\n",
    "        print(\"跑\")\n",
    "    def eat(self):                  #定义方法\n",
    "        print(\"肉\")\n",
    "    \n",
    "class Zilei1(Fulei):\n",
    "    def __init__(self,name,age):     #形参直接抄过来\n",
    "        #调用父类中的__init__方法\n",
    "        super(Zilei1,self).__init__(name,age)\n",
    "class Zilei2(Fulei):\n",
    "    def __init__(self,name,age):\n",
    "        #调用父类中的__init__方法\n",
    "        super(Zilei2,self).__init__(name,age)\n",
    "dog1=Zilei1(\"dog1\",10)\n",
    "dog1.run()\n",
    "\n",
    "\n",
    "#如果父类中的方法不对外开放，不可修改，则使用MethodType()进行修改\n",
    "a=Fulei()\n",
    "a.sleep=MethodType(sleep,a)\n",
    "a.sleep()\n",
    " ########################################################################################################################33\n",
    "#单继承\n",
    "# class Person(object):\n",
    "#     pass\n",
    "    \n",
    "# class Student():\n",
    "#     def __init__(self,name,age):\n",
    "#         self.name=name\n",
    "#         self.age=age\n",
    "#     def run(self):\n",
    "#         print(\"跑\")\n",
    "#     def eat(self):\n",
    "#         print(\"肉\")  \n",
    "        \n",
    "# class Teacher():\n",
    "#     def __init__(self,name,age):\n",
    "#         self.name=name\n",
    "#         self.age=age\n",
    "#     def run(self):\n",
    "#         print(\"跑\")    \n",
    "#     def eat(self):\n",
    "#         print(\"肉\")     \n",
    "        \n",
    "    \n",
    "#1.用继承改写成：\n",
    "class Person(object):\n",
    "    def __init__(self,name,age):\n",
    "        self.name=name\n",
    "        self.age=age\n",
    "    def run(self):\n",
    "        print(\"跑\")\n",
    "    def eat(self):\n",
    "        print(\"肉\")\n",
    "    \n",
    "class Student(Person):   #继承自person\n",
    "    pass\n",
    "              \n",
    "class Teacher(Person):\n",
    "    pass   \n",
    "\n",
    "stu=Student(\"tom\",20)\n",
    "print(stu.name)\n",
    "print(stu.age)\n",
    "print(stu.run())\n",
    "print(stu.eat())\n",
    "\n",
    "\n",
    "\n",
    "#2.\n",
    "\n",
    "class Person(object):\n",
    "    def __init__(self,name,age):\n",
    "        self.name=name\n",
    "        self.age=age\n",
    "    def run(self):    \n",
    "        print(\"跑\")\n",
    "    def eat(self):\n",
    "        print(\"肉\")\n",
    "    \n",
    "class Student(Person):\n",
    "    def __init__(self,name,age):\n",
    "        #调用父类中的__init__方法\n",
    "        super(Student,self).__init__(name,age)\n",
    "              \n",
    "class Teacher(Person):\n",
    "    def __init__(self,name,age):\n",
    "        #调用父类中的__init__方法\n",
    "        super(Teacher,self).__init__(name,age) \n",
    "\n",
    "\n",
    "\n",
    "\n",
    "\n",
    "#多继承\n",
    "class SumObj(object):\n",
    "    def sum(self,a,b):\n",
    "        return a+b\n",
    "class SubObj(object):\n",
    "    def sub(self,a,b):\n",
    "        return a-b\n",
    "    \n",
    "    \n",
    "class Caculator(SumObj,SubObj):  #多继承\n",
    "    pass\n",
    "\n",
    "c=Caculator()\n",
    "print(c.sum(1,2))\n",
    "print(c.sub(1,2))\n",
    "        "
   ]
  },
  {
   "cell_type": "code",
   "execution_count": 27,
   "metadata": {},
   "outputs": [
    {
     "name": "stdout",
     "output_type": "stream",
     "text": [
      "dog1吃\n"
     ]
    }
   ],
   "source": [
    "#一种事物的多种形态  多态\n",
    "#定义2个类 猫狗\n",
    "\n",
    "class Animal(object):\n",
    "    def __init__(self,name):\n",
    "        self.name=name\n",
    "    def run(self):\n",
    "        print(\"%s吃\"%self.name)\n",
    "class Cat(Animal):\n",
    "    def __init__(self,name):\n",
    "        super(Cat,self).__init__(name)\n",
    "    \n",
    "        \n",
    "class Dog(Animal):\n",
    "      def __init__(self,name):\n",
    "        super(Dog,self).__init__(name)\n",
    "        \n",
    "dog1=Dog(\"dog1\")\n",
    "dog1.run()"
   ]
  },
  {
   "cell_type": "code",
   "execution_count": 16,
   "metadata": {},
   "outputs": [
    {
     "name": "stdout",
     "output_type": "stream",
     "text": [
      "xiaohong吃\n"
     ]
    }
   ],
   "source": [
    "#多态\n",
    "class Person(object):\n",
    "    def feedAnimal(self,animal):\n",
    "        animal.eat()\n",
    "        \n",
    "class Animal(object):\n",
    "    def __init__(self,name):\n",
    "        self.name=name\n",
    "    def run(self):\n",
    "        print(\"%s跑\"%self.name)\n",
    "    def eat(self):\n",
    "        print(\"%s吃\"%self.name)\n",
    "        \n",
    "class Cat(Animal):\n",
    "    def __init__(self,name):\n",
    "        super().__init__(name)\n",
    "    \n",
    "class Dog(Animal):\n",
    "    def __init__(self,name):\n",
    "        super().__init__(name)\n",
    "        \n",
    "cat=Cat(\"xiaohong\")        \n",
    "per=Person()\n",
    "per.feedAnimal(cat)     #讲person和Animal联系起来\n",
    "\n",
    "      "
   ]
  },
  {
   "cell_type": "code",
   "execution_count": 4,
   "metadata": {},
   "outputs": [
    {
     "name": "stdout",
     "output_type": "stream",
     "text": [
      "淘气跑\n",
      "淘气吃肉\n"
     ]
    }
   ],
   "source": [
    "class Animal(object):\n",
    "    def __init__(self,name):\n",
    "        self.name=name\n",
    "        \n",
    "    def run(self):\n",
    "        print(\"%s跑\"%self.name)\n",
    "    def eat(self):\n",
    "        print(\"%s吃肉\"%self.name)\n",
    "        \n",
    "class Cat(Animal):\n",
    "    def __init__(self,name):\n",
    "        super().__init__(name)\n",
    "class Dog(Animal):\n",
    "    def __init__(self,name):\n",
    "        super().__init__(name)\n",
    "\n",
    "a=Cat(\"淘气\")\n",
    "a.run()\n",
    "a.eat()"
   ]
  },
  {
   "cell_type": "code",
   "execution_count": 12,
   "metadata": {},
   "outputs": [
    {
     "name": "stdout",
     "output_type": "stream",
     "text": [
      "Yangqiu在跑 他今年18岁 是个girl\n"
     ]
    }
   ],
   "source": [
    "class Person(object):\n",
    "    def __init__(self,name,age,gender):\n",
    "        self.name=name\n",
    "        self.age=age\n",
    "        self.gender=gender\n",
    "    def run(self):\n",
    "        print(\"%s在跑\"%self.name,\"他今年%d岁\"%self.age,\"是个%s\"%self.gender)\n",
    "class Group(Person):\n",
    "    def __init__(self,name,age,gender):\n",
    "        super().__init__(name,age,gender)\n",
    "       \n",
    "        \n",
    "a=Group(\"Yangqiu\",18,\"girl\")\n",
    "a.run()"
   ]
  },
  {
   "cell_type": "code",
   "execution_count": 17,
   "metadata": {},
   "outputs": [
    {
     "data": {
      "text/plain": [
       "property"
      ]
     },
     "execution_count": 17,
     "metadata": {},
     "output_type": "execute_result"
    }
   ],
   "source": [
    "#__slots__(a,b,c) slots元组里面的元素代表可做修改的属性\n",
    "class Person():\n",
    "    __slots__=(\"height\",\"weight\")\n",
    "\n",
    "property\n"
   ]
  },
  {
   "cell_type": "code",
   "execution_count": 25,
   "metadata": {},
   "outputs": [
    {
     "name": "stdout",
     "output_type": "stream",
     "text": [
      "豆花吃肉\n"
     ]
    }
   ],
   "source": [
    "class Person(object):\n",
    "    def feedAnimal(self,animal):  #shuxing\n",
    "        animal.eat()\n",
    "class Animal(object):\n",
    "    def __init__(self,name):\n",
    "        self.name=name\n",
    "    def eat(self):\n",
    "        print(\"%s吃肉\"%self.name)\n",
    "class Cat(Animal):\n",
    "    def __init__(self,name):\n",
    "        super().__init__(name)\n",
    "a=Person()        \n",
    "b=Cat(\"豆花\")\n",
    "a.feedAnimal(b)"
   ]
  },
  {
   "cell_type": "code",
   "execution_count": 26,
   "metadata": {},
   "outputs": [],
   "source": [
    "#银行自动提款机系统\n"
   ]
  },
  {
   "cell_type": "code",
   "execution_count": 1,
   "metadata": {},
   "outputs": [
    {
     "ename": "TclError",
     "evalue": "unknown option \"-yscrollcommand\"",
     "output_type": "error",
     "traceback": [
      "\u001b[1;31m---------------------------------------------------------------------------\u001b[0m",
      "\u001b[1;31mTclError\u001b[0m                                  Traceback (most recent call last)",
      "\u001b[1;32m<ipython-input-1-ff5882b53500>\u001b[0m in \u001b[0;36m<module>\u001b[1;34m\u001b[0m\n\u001b[0;32m     15\u001b[0m \u001b[0mtext\u001b[0m\u001b[1;33m.\u001b[0m\u001b[0mpack\u001b[0m\u001b[1;33m(\u001b[0m\u001b[0mside\u001b[0m\u001b[1;33m=\u001b[0m\u001b[0mtkinter\u001b[0m\u001b[1;33m.\u001b[0m\u001b[0mLEFT\u001b[0m\u001b[1;33m,\u001b[0m\u001b[0mfill\u001b[0m\u001b[1;33m=\u001b[0m\u001b[0mtkinter\u001b[0m\u001b[1;33m.\u001b[0m\u001b[0mY\u001b[0m\u001b[1;33m)\u001b[0m \u001b[1;31m#讲文本内容放在左侧，并填满\u001b[0m\u001b[1;33m\u001b[0m\u001b[1;33m\u001b[0m\u001b[0m\n\u001b[0;32m     16\u001b[0m \u001b[0mscroll\u001b[0m\u001b[1;33m.\u001b[0m\u001b[0mconfig\u001b[0m\u001b[1;33m(\u001b[0m\u001b[0mcommand\u001b[0m\u001b[1;33m=\u001b[0m\u001b[0mtext\u001b[0m\u001b[1;33m.\u001b[0m\u001b[0myview\u001b[0m\u001b[1;33m)\u001b[0m\u001b[1;33m\u001b[0m\u001b[1;33m\u001b[0m\u001b[0m\n\u001b[1;32m---> 17\u001b[1;33m \u001b[0mscroll\u001b[0m\u001b[1;33m.\u001b[0m\u001b[0mconfig\u001b[0m\u001b[1;33m(\u001b[0m\u001b[0myscrollcommand\u001b[0m\u001b[1;33m=\u001b[0m\u001b[0mscroll\u001b[0m\u001b[1;33m.\u001b[0m\u001b[0mset\u001b[0m\u001b[1;33m)\u001b[0m\u001b[1;33m\u001b[0m\u001b[1;33m\u001b[0m\u001b[0m\n\u001b[0m\u001b[0;32m     18\u001b[0m \u001b[1;31m# str=\"addfdffgghfgh\"\u001b[0m\u001b[1;33m\u001b[0m\u001b[1;33m\u001b[0m\u001b[1;33m\u001b[0m\u001b[0m\n\u001b[0;32m     19\u001b[0m \u001b[1;31m# text.insert(tkinter.INSERT,str)\u001b[0m\u001b[1;33m\u001b[0m\u001b[1;33m\u001b[0m\u001b[1;33m\u001b[0m\u001b[0m\n",
      "\u001b[1;32mD:\\Anaconda3\\lib\\tkinter\\__init__.py\u001b[0m in \u001b[0;36mconfigure\u001b[1;34m(self, cnf, **kw)\u001b[0m\n\u001b[0;32m   1483\u001b[0m         \u001b[0mthe\u001b[0m \u001b[0mallowed\u001b[0m \u001b[0mkeyword\u001b[0m \u001b[0marguments\u001b[0m \u001b[0mcall\u001b[0m \u001b[0mthe\u001b[0m \u001b[0mmethod\u001b[0m \u001b[0mkeys\u001b[0m\u001b[1;33m.\u001b[0m\u001b[1;33m\u001b[0m\u001b[1;33m\u001b[0m\u001b[0m\n\u001b[0;32m   1484\u001b[0m         \"\"\"\n\u001b[1;32m-> 1485\u001b[1;33m         \u001b[1;32mreturn\u001b[0m \u001b[0mself\u001b[0m\u001b[1;33m.\u001b[0m\u001b[0m_configure\u001b[0m\u001b[1;33m(\u001b[0m\u001b[1;34m'configure'\u001b[0m\u001b[1;33m,\u001b[0m \u001b[0mcnf\u001b[0m\u001b[1;33m,\u001b[0m \u001b[0mkw\u001b[0m\u001b[1;33m)\u001b[0m\u001b[1;33m\u001b[0m\u001b[1;33m\u001b[0m\u001b[0m\n\u001b[0m\u001b[0;32m   1486\u001b[0m     \u001b[0mconfig\u001b[0m \u001b[1;33m=\u001b[0m \u001b[0mconfigure\u001b[0m\u001b[1;33m\u001b[0m\u001b[1;33m\u001b[0m\u001b[0m\n\u001b[0;32m   1487\u001b[0m     \u001b[1;32mdef\u001b[0m \u001b[0mcget\u001b[0m\u001b[1;33m(\u001b[0m\u001b[0mself\u001b[0m\u001b[1;33m,\u001b[0m \u001b[0mkey\u001b[0m\u001b[1;33m)\u001b[0m\u001b[1;33m:\u001b[0m\u001b[1;33m\u001b[0m\u001b[1;33m\u001b[0m\u001b[0m\n",
      "\u001b[1;32mD:\\Anaconda3\\lib\\tkinter\\__init__.py\u001b[0m in \u001b[0;36m_configure\u001b[1;34m(self, cmd, cnf, kw)\u001b[0m\n\u001b[0;32m   1474\u001b[0m         \u001b[1;32mif\u001b[0m \u001b[0misinstance\u001b[0m\u001b[1;33m(\u001b[0m\u001b[0mcnf\u001b[0m\u001b[1;33m,\u001b[0m \u001b[0mstr\u001b[0m\u001b[1;33m)\u001b[0m\u001b[1;33m:\u001b[0m\u001b[1;33m\u001b[0m\u001b[1;33m\u001b[0m\u001b[0m\n\u001b[0;32m   1475\u001b[0m             \u001b[1;32mreturn\u001b[0m \u001b[0mself\u001b[0m\u001b[1;33m.\u001b[0m\u001b[0m_getconfigure1\u001b[0m\u001b[1;33m(\u001b[0m\u001b[0m_flatten\u001b[0m\u001b[1;33m(\u001b[0m\u001b[1;33m(\u001b[0m\u001b[0mself\u001b[0m\u001b[1;33m.\u001b[0m\u001b[0m_w\u001b[0m\u001b[1;33m,\u001b[0m \u001b[0mcmd\u001b[0m\u001b[1;33m,\u001b[0m \u001b[1;34m'-'\u001b[0m\u001b[1;33m+\u001b[0m\u001b[0mcnf\u001b[0m\u001b[1;33m)\u001b[0m\u001b[1;33m)\u001b[0m\u001b[1;33m)\u001b[0m\u001b[1;33m\u001b[0m\u001b[1;33m\u001b[0m\u001b[0m\n\u001b[1;32m-> 1476\u001b[1;33m         \u001b[0mself\u001b[0m\u001b[1;33m.\u001b[0m\u001b[0mtk\u001b[0m\u001b[1;33m.\u001b[0m\u001b[0mcall\u001b[0m\u001b[1;33m(\u001b[0m\u001b[0m_flatten\u001b[0m\u001b[1;33m(\u001b[0m\u001b[1;33m(\u001b[0m\u001b[0mself\u001b[0m\u001b[1;33m.\u001b[0m\u001b[0m_w\u001b[0m\u001b[1;33m,\u001b[0m \u001b[0mcmd\u001b[0m\u001b[1;33m)\u001b[0m\u001b[1;33m)\u001b[0m \u001b[1;33m+\u001b[0m \u001b[0mself\u001b[0m\u001b[1;33m.\u001b[0m\u001b[0m_options\u001b[0m\u001b[1;33m(\u001b[0m\u001b[0mcnf\u001b[0m\u001b[1;33m)\u001b[0m\u001b[1;33m)\u001b[0m\u001b[1;33m\u001b[0m\u001b[1;33m\u001b[0m\u001b[0m\n\u001b[0m\u001b[0;32m   1477\u001b[0m     \u001b[1;31m# These used to be defined in Widget:\u001b[0m\u001b[1;33m\u001b[0m\u001b[1;33m\u001b[0m\u001b[1;33m\u001b[0m\u001b[0m\n\u001b[0;32m   1478\u001b[0m     \u001b[1;32mdef\u001b[0m \u001b[0mconfigure\u001b[0m\u001b[1;33m(\u001b[0m\u001b[0mself\u001b[0m\u001b[1;33m,\u001b[0m \u001b[0mcnf\u001b[0m\u001b[1;33m=\u001b[0m\u001b[1;32mNone\u001b[0m\u001b[1;33m,\u001b[0m \u001b[1;33m**\u001b[0m\u001b[0mkw\u001b[0m\u001b[1;33m)\u001b[0m\u001b[1;33m:\u001b[0m\u001b[1;33m\u001b[0m\u001b[1;33m\u001b[0m\u001b[0m\n",
      "\u001b[1;31mTclError\u001b[0m: unknown option \"-yscrollcommand\""
     ]
    }
   ],
   "source": [
    "#Tkinter是python的GUI接口     程序安装的界面    可以写qq\n",
    "import tkinter\n",
    "#创建一个视图\n",
    "win=tkinter.Tk()\n",
    "#命名\n",
    "win.title(\"yqh\")\n",
    "#设置大小和位置\n",
    "win.geometry(\"400x400+200+20\")\n",
    "\n",
    "\n",
    "text=tkinter.Text(win,width=20,height=5)\n",
    "text.pack()\n",
    "scroll=tkinter.Scrollbar()\n",
    "scroll.pack(side=tkinter.RIGHT,fill=tkinter.Y)#讲滚动条放在右侧，并填满\n",
    "text.pack(side=tkinter.LEFT,fill=tkinter.Y) #讲文本内容放在左侧，并填满\n",
    "scroll.config(command=text.yview)\n",
    "scroll.config(yscrollcommand=scroll.set)\n",
    "# str=\"addfdffgghfgh\"\n",
    "# text.insert(tkinter.INSERT,str)\n",
    "\n",
    "#控件  显示文字\n",
    "label=tkinter.Label(win,\n",
    "                    text=\"yqh is a good girl\",\n",
    "                    bg=\"red\",\n",
    "                    fg=\"black\",\n",
    "                    wraplength=500,\n",
    "                    font=(\"黑体\",20),\n",
    "                    width=20,\n",
    "                    height=5,\n",
    "                    justify=\"left\",\n",
    "                    anchor=\"center\")\n",
    "label.pack()\n",
    "#按钮\n",
    "def func():\n",
    "    print(\"sunck is a good man\")\n",
    "button=tkinter.Button(win,\n",
    "                      text=\"按钮\",\n",
    "                      command=func,\n",
    "                      )\n",
    "#按钮显示\n",
    "button.pack()\n",
    "\n",
    "button1=tkinter.Button(win,\n",
    "                      text=\"按钮\",\n",
    "                      command=win.quit\n",
    "                      )\n",
    "\n",
    "button1.pack()\n",
    "win.mainloop()"
   ]
  },
  {
   "cell_type": "code",
   "execution_count": 6,
   "metadata": {
    "scrolled": true
   },
   "outputs": [
    {
     "ename": "TclError",
     "evalue": "unknown option \"-yscrollcommand\"",
     "output_type": "error",
     "traceback": [
      "\u001b[1;31m---------------------------------------------------------------------------\u001b[0m",
      "\u001b[1;31mTclError\u001b[0m                                  Traceback (most recent call last)",
      "\u001b[1;32m<ipython-input-6-ea0b592d941d>\u001b[0m in \u001b[0;36m<module>\u001b[1;34m\u001b[0m\n\u001b[0;32m     17\u001b[0m \u001b[0mtext\u001b[0m\u001b[1;33m.\u001b[0m\u001b[0mpack\u001b[0m\u001b[1;33m(\u001b[0m\u001b[0mside\u001b[0m\u001b[1;33m=\u001b[0m\u001b[0mtkinter\u001b[0m\u001b[1;33m.\u001b[0m\u001b[0mLEFT\u001b[0m\u001b[1;33m,\u001b[0m\u001b[0mfill\u001b[0m\u001b[1;33m=\u001b[0m\u001b[0mtkinter\u001b[0m\u001b[1;33m.\u001b[0m\u001b[0mY\u001b[0m\u001b[1;33m)\u001b[0m\u001b[1;33m\u001b[0m\u001b[1;33m\u001b[0m\u001b[0m\n\u001b[0;32m     18\u001b[0m \u001b[0mscroll\u001b[0m\u001b[1;33m.\u001b[0m\u001b[0mconfig\u001b[0m\u001b[1;33m(\u001b[0m\u001b[0mcommand\u001b[0m\u001b[1;33m=\u001b[0m\u001b[0mtext\u001b[0m\u001b[1;33m.\u001b[0m\u001b[0myview\u001b[0m\u001b[1;33m)\u001b[0m\u001b[1;33m\u001b[0m\u001b[1;33m\u001b[0m\u001b[0m\n\u001b[1;32m---> 19\u001b[1;33m \u001b[0mscroll\u001b[0m\u001b[1;33m.\u001b[0m\u001b[0mconfig\u001b[0m\u001b[1;33m(\u001b[0m\u001b[0myscrollcommand\u001b[0m\u001b[1;33m=\u001b[0m\u001b[0mscroll\u001b[0m\u001b[1;33m.\u001b[0m\u001b[0mset\u001b[0m\u001b[1;33m)\u001b[0m\u001b[1;33m\u001b[0m\u001b[1;33m\u001b[0m\u001b[0m\n\u001b[0m\u001b[0;32m     20\u001b[0m \u001b[0mwin\u001b[0m\u001b[1;33m.\u001b[0m\u001b[0mmainloop\u001b[0m\u001b[1;33m(\u001b[0m\u001b[1;33m)\u001b[0m\u001b[1;33m\u001b[0m\u001b[1;33m\u001b[0m\u001b[0m\n\u001b[0;32m     21\u001b[0m \u001b[1;31m# str=\"addfdffgghfgh\"\u001b[0m\u001b[1;33m\u001b[0m\u001b[1;33m\u001b[0m\u001b[1;33m\u001b[0m\u001b[0m\n",
      "\u001b[1;32mD:\\Anaconda3\\lib\\tkinter\\__init__.py\u001b[0m in \u001b[0;36mconfigure\u001b[1;34m(self, cnf, **kw)\u001b[0m\n\u001b[0;32m   1483\u001b[0m         \u001b[0mthe\u001b[0m \u001b[0mallowed\u001b[0m \u001b[0mkeyword\u001b[0m \u001b[0marguments\u001b[0m \u001b[0mcall\u001b[0m \u001b[0mthe\u001b[0m \u001b[0mmethod\u001b[0m \u001b[0mkeys\u001b[0m\u001b[1;33m.\u001b[0m\u001b[1;33m\u001b[0m\u001b[1;33m\u001b[0m\u001b[0m\n\u001b[0;32m   1484\u001b[0m         \"\"\"\n\u001b[1;32m-> 1485\u001b[1;33m         \u001b[1;32mreturn\u001b[0m \u001b[0mself\u001b[0m\u001b[1;33m.\u001b[0m\u001b[0m_configure\u001b[0m\u001b[1;33m(\u001b[0m\u001b[1;34m'configure'\u001b[0m\u001b[1;33m,\u001b[0m \u001b[0mcnf\u001b[0m\u001b[1;33m,\u001b[0m \u001b[0mkw\u001b[0m\u001b[1;33m)\u001b[0m\u001b[1;33m\u001b[0m\u001b[1;33m\u001b[0m\u001b[0m\n\u001b[0m\u001b[0;32m   1486\u001b[0m     \u001b[0mconfig\u001b[0m \u001b[1;33m=\u001b[0m \u001b[0mconfigure\u001b[0m\u001b[1;33m\u001b[0m\u001b[1;33m\u001b[0m\u001b[0m\n\u001b[0;32m   1487\u001b[0m     \u001b[1;32mdef\u001b[0m \u001b[0mcget\u001b[0m\u001b[1;33m(\u001b[0m\u001b[0mself\u001b[0m\u001b[1;33m,\u001b[0m \u001b[0mkey\u001b[0m\u001b[1;33m)\u001b[0m\u001b[1;33m:\u001b[0m\u001b[1;33m\u001b[0m\u001b[1;33m\u001b[0m\u001b[0m\n",
      "\u001b[1;32mD:\\Anaconda3\\lib\\tkinter\\__init__.py\u001b[0m in \u001b[0;36m_configure\u001b[1;34m(self, cmd, cnf, kw)\u001b[0m\n\u001b[0;32m   1474\u001b[0m         \u001b[1;32mif\u001b[0m \u001b[0misinstance\u001b[0m\u001b[1;33m(\u001b[0m\u001b[0mcnf\u001b[0m\u001b[1;33m,\u001b[0m \u001b[0mstr\u001b[0m\u001b[1;33m)\u001b[0m\u001b[1;33m:\u001b[0m\u001b[1;33m\u001b[0m\u001b[1;33m\u001b[0m\u001b[0m\n\u001b[0;32m   1475\u001b[0m             \u001b[1;32mreturn\u001b[0m \u001b[0mself\u001b[0m\u001b[1;33m.\u001b[0m\u001b[0m_getconfigure1\u001b[0m\u001b[1;33m(\u001b[0m\u001b[0m_flatten\u001b[0m\u001b[1;33m(\u001b[0m\u001b[1;33m(\u001b[0m\u001b[0mself\u001b[0m\u001b[1;33m.\u001b[0m\u001b[0m_w\u001b[0m\u001b[1;33m,\u001b[0m \u001b[0mcmd\u001b[0m\u001b[1;33m,\u001b[0m \u001b[1;34m'-'\u001b[0m\u001b[1;33m+\u001b[0m\u001b[0mcnf\u001b[0m\u001b[1;33m)\u001b[0m\u001b[1;33m)\u001b[0m\u001b[1;33m)\u001b[0m\u001b[1;33m\u001b[0m\u001b[1;33m\u001b[0m\u001b[0m\n\u001b[1;32m-> 1476\u001b[1;33m         \u001b[0mself\u001b[0m\u001b[1;33m.\u001b[0m\u001b[0mtk\u001b[0m\u001b[1;33m.\u001b[0m\u001b[0mcall\u001b[0m\u001b[1;33m(\u001b[0m\u001b[0m_flatten\u001b[0m\u001b[1;33m(\u001b[0m\u001b[1;33m(\u001b[0m\u001b[0mself\u001b[0m\u001b[1;33m.\u001b[0m\u001b[0m_w\u001b[0m\u001b[1;33m,\u001b[0m \u001b[0mcmd\u001b[0m\u001b[1;33m)\u001b[0m\u001b[1;33m)\u001b[0m \u001b[1;33m+\u001b[0m \u001b[0mself\u001b[0m\u001b[1;33m.\u001b[0m\u001b[0m_options\u001b[0m\u001b[1;33m(\u001b[0m\u001b[0mcnf\u001b[0m\u001b[1;33m)\u001b[0m\u001b[1;33m)\u001b[0m\u001b[1;33m\u001b[0m\u001b[1;33m\u001b[0m\u001b[0m\n\u001b[0m\u001b[0;32m   1477\u001b[0m     \u001b[1;31m# These used to be defined in Widget:\u001b[0m\u001b[1;33m\u001b[0m\u001b[1;33m\u001b[0m\u001b[1;33m\u001b[0m\u001b[0m\n\u001b[0;32m   1478\u001b[0m     \u001b[1;32mdef\u001b[0m \u001b[0mconfigure\u001b[0m\u001b[1;33m(\u001b[0m\u001b[0mself\u001b[0m\u001b[1;33m,\u001b[0m \u001b[0mcnf\u001b[0m\u001b[1;33m=\u001b[0m\u001b[1;32mNone\u001b[0m\u001b[1;33m,\u001b[0m \u001b[1;33m**\u001b[0m\u001b[0mkw\u001b[0m\u001b[1;33m)\u001b[0m\u001b[1;33m:\u001b[0m\u001b[1;33m\u001b[0m\u001b[1;33m\u001b[0m\u001b[0m\n",
      "\u001b[1;31mTclError\u001b[0m: unknown option \"-yscrollcommand\""
     ]
    }
   ],
   "source": [
    "import tkinter\n",
    "#创建一个视图\n",
    "win=tkinter.Tk()\n",
    "#命名\n",
    "win.title(\"yqh\")\n",
    "#设置大小和位置\n",
    "win.geometry(\"400x400+200+20\")\n",
    "\n",
    "\n",
    "text=tkinter.Text(win,width=20,height=5)\n",
    "text.pack()\n",
    "#创建滚动条\n",
    "scroll=tkinter.Scrollbar()\n",
    "#讲滚动条放在右侧，并填满\n",
    "scroll.pack(side=tkinter.RIGHT,fill=tkinter.Y)\n",
    "#讲文本内容放在左侧，并填满\n",
    "text.pack(side=tkinter.LEFT,fill=tkinter.Y) \n",
    "scroll.config(command=text.yview)\n",
    "scroll.config(yscrollcommand=scroll.set)\n",
    "win.mainloop()\n",
    "# str=\"addfdffgghfgh\"\n",
    "# text.insert(tkinter.INSERT,str)"
   ]
  },
  {
   "cell_type": "code",
   "execution_count": 1,
   "metadata": {},
   "outputs": [
    {
     "ename": "SyntaxError",
     "evalue": "invalid syntax (<ipython-input-1-aadee311d089>, line 1)",
     "output_type": "error",
     "traceback": [
      "\u001b[1;36m  File \u001b[1;32m\"<ipython-input-1-aadee311d089>\"\u001b[1;36m, line \u001b[1;32m1\u001b[0m\n\u001b[1;33m    复选框 单选框\u001b[0m\n\u001b[1;37m          ^\u001b[0m\n\u001b[1;31mSyntaxError\u001b[0m\u001b[1;31m:\u001b[0m invalid syntax\n"
     ]
    }
   ],
   "source": [
    "复选框 单选框"
   ]
  },
  {
   "cell_type": "code",
   "execution_count": 5,
   "metadata": {},
   "outputs": [
    {
     "name": "stdout",
     "output_type": "stream",
     "text": [
      "<map object at 0x0000025B304FC550>\n",
      "[1, 2, 3, 4, 5]\n",
      "21\n",
      "6\n"
     ]
    }
   ],
   "source": [
    "#高阶函数 haddoop map reduce\n",
    "'''\n",
    "map(fn,lsd)  (函数，集合)\n",
    "将传入的函数依次作用在集合的每个元素，并把结果作为新的iterator返回\n",
    "'''\n",
    "def chr2int(chr):\n",
    "    return{\"0\":0,\"1\":1,\"2\":2,\"3\":3,\"4\":4,\"5\":5,\"6\":6,\"7\":7}[chr]\n",
    "arr=\"12345\" #字符串是列表list\n",
    "res=map(chr2int,arr)   #map相当于将12345拆分成1   2    3         4       5，然后交给chr2int处理,这就相当于5台电脑并行工作\n",
    "print(res)\n",
    "print(list(res))\n",
    "\n",
    "'''\n",
    "reduce(fn,lsd)  (函数，集合)\n",
    "将一个函数作用在一个序列上，这个函数接收2个参数，reduce将结果再跟其他参数作运算\n",
    "reduce(f,[x1,x2,x3,x4])====f(f(f(x1,x2)x3)x4)\n",
    "'''\n",
    "#求一个集合的和\n",
    "from functools import reduce\n",
    "des=[1,3,4,6,7]\n",
    "def mysum(a,b):\n",
    "    return a+b\n",
    "sum=reduce(mysum,des)\n",
    "print(sum)\n",
    "\n",
    "#将字符串转成数字    函数str2int中的map将字符串拆分成1  2   3，然后reduce进行函数f中的加和计算\n",
    "def str2int(str):\n",
    "    #内嵌函数\n",
    "    def f(x,y):\n",
    "        return x+y    #(x*10+y)\n",
    "    def chr2int(chr):\n",
    "        return{\"0\":0,\"1\":1,\"2\":2,\"3\":3,\"4\":4,\"5\":5,\"6\":6,\"7\":7}[chr]\n",
    "    \n",
    "    \n",
    "    return reduce(f,map(chr2int,str))\n",
    "\n",
    "print(str2int(\"123\"))   \n",
    "        "
   ]
  },
  {
   "cell_type": "code",
   "execution_count": 6,
   "metadata": {},
   "outputs": [
    {
     "name": "stdout",
     "output_type": "stream",
     "text": [
      "<filter object at 0x0000025B304FC2B0>\n",
      "[2, 6, 8]\n"
     ]
    }
   ],
   "source": [
    "'''\n",
    "filter(fn,lsd)\n",
    "过滤集合，将传入的fn作用在每个元素上，然后返回true或false决定保留还是舍弃\n",
    "\n",
    "\n",
    "'''\n",
    "arr=[1,2,3,45,6,7,8] #保留偶数\n",
    "def func(num):\n",
    "    if num%2==0:\n",
    "        return True\n",
    "    return False\n",
    "res=filter(func,arr)\n",
    "print(res)\n",
    "print(list(res))"
   ]
  },
  {
   "cell_type": "code",
   "execution_count": 2,
   "metadata": {},
   "outputs": [
    {
     "name": "stdout",
     "output_type": "stream",
     "text": [
      "[1, 3, 4, 5, 6, 6, 98]\n",
      "96\n",
      "[1, 3, 4, 5, 5, 7, 7, 8, 30, 84]\n",
      "84\n"
     ]
    }
   ],
   "source": [
    "#排序sorted 冒泡  选择  快速  计数器\n",
    "l1=[1,3,4,5,6,98,6]\n",
    "l2=sorted(l1)    #sorted(l1,reverse=True,key=abs) 降序，并按绝对值排序\n",
    "print(l2)\n",
    "\n",
    "\n",
    "#取最大值 和 第二大值\n",
    "l3=[1,3,5,7,8,4,5,7,84,30,96]\n",
    "l4=sorted(l3)\n",
    "print(max(l4))\n",
    "\n",
    "l5=l4.pop()\n",
    "print(l4)\n",
    "print(max(l4))\n",
    "\n"
   ]
  },
  {
   "cell_type": "code",
   "execution_count": 29,
   "metadata": {},
   "outputs": [
    {
     "name": "stdout",
     "output_type": "stream",
     "text": [
      "5\n"
     ]
    }
   ],
   "source": [
    "#单元测试\n",
    "def mysum(x,y):\n",
    "    return x+y\n",
    "def mysub(x,y):\n",
    "    return x-y\n",
    "\n",
    "print(mysum(2,3))"
   ]
  },
  {
   "cell_type": "code",
   "execution_count": 38,
   "metadata": {
    "scrolled": false
   },
   "outputs": [
    {
     "name": "stderr",
     "output_type": "stream",
     "text": [
      "E"
     ]
    },
    {
     "name": "stdout",
     "output_type": "stream",
     "text": [
      "5\n"
     ]
    },
    {
     "name": "stderr",
     "output_type": "stream",
     "text": [
      "\n",
      "======================================================================\n",
      "ERROR: C:\\Users\\Administrator\\AppData\\Roaming\\jupyter\\runtime\\kernel-0adccbb8-7986-4f02-8611-9b9fab968238 (unittest.loader._FailedTest)\n",
      "----------------------------------------------------------------------\n",
      "AttributeError: module '__main__' has no attribute 'C:\\Users\\Administrator\\AppData\\Roaming\\jupyter\\runtime\\kernel-0adccbb8-7986-4f02-8611-9b9fab968238'\n",
      "\n",
      "----------------------------------------------------------------------\n",
      "Ran 1 test in 0.002s\n",
      "\n",
      "FAILED (errors=1)\n"
     ]
    },
    {
     "ename": "SystemExit",
     "evalue": "True",
     "output_type": "error",
     "traceback": [
      "An exception has occurred, use %tb to see the full traceback.\n",
      "\u001b[1;31mSystemExit\u001b[0m\u001b[1;31m:\u001b[0m True\n"
     ]
    },
    {
     "name": "stderr",
     "output_type": "stream",
     "text": [
      "D:\\Anaconda3\\lib\\site-packages\\IPython\\core\\interactiveshell.py:3275: UserWarning: To exit: use 'exit', 'quit', or Ctrl-D.\n",
      "  warn(\"To exit: use 'exit', 'quit', or Ctrl-D.\", stacklevel=1)\n"
     ]
    }
   ],
   "source": [
    "#单元测试 定义文件名为：yqh.py\n",
    "def mysum(x,y):\n",
    "    return x+y\n",
    "def mysub(x,y):\n",
    "    return x-y\n",
    "\n",
    "print(mysum(2,3))\n",
    "\n",
    "#测试上述函数\n",
    "import unittest\n",
    "from yqh import mysum,mysub\n",
    "class Test(unittest.TestCase):\n",
    "    def setUp(self):\n",
    "         print(\"开始测试...\")\n",
    "    def tearDown(self):\n",
    "         print(\"测试结束...\")\n",
    "    \n",
    "    def test_mysum(self):\n",
    "         self.assertEqual(mysum(1,2),3,\"报错\")\n",
    "    def test_mysub(self):\n",
    "         self.assertEqual(mysub(1,2),-1,\"报错\")\n",
    "    \n",
    "\n",
    "    \n",
    "if __name__==\"__main__\":\n",
    "    unittest.main()\n",
    "    "
   ]
  },
  {
   "cell_type": "code",
   "execution_count": 40,
   "metadata": {},
   "outputs": [
    {
     "name": "stdout",
     "output_type": "stream",
     "text": [
      "[(1, 2), (1, 3), (1, 4), (2, 1), (2, 3), (2, 4), (3, 1), (3, 2), (3, 4), (4, 1), (4, 2), (4, 3)]\n",
      "12\n",
      "[(1, 2), (1, 3), (1, 4), (2, 3), (2, 4), (3, 4)]\n",
      "6\n"
     ]
    }
   ],
   "source": [
    "#密码 排列\n",
    "import itertools\n",
    "mylist=list(itertools.permutations([1,2,3,4],2))  #全排列\n",
    "print(mylist)\n",
    "print(len(mylist))\n",
    "#组合\n",
    "import itertools\n",
    "mylist=list(itertools.combinations([1,2,3,4],2))  #全排列\n",
    "print(mylist)\n",
    "print(len(mylist))"
   ]
  },
  {
   "cell_type": "code",
   "execution_count": 47,
   "metadata": {},
   "outputs": [
    {
     "name": "stdout",
     "output_type": "stream",
     "text": [
      "<re.Match object; span=(0, 3), match='www'>\n"
     ]
    },
    {
     "ename": "TypeError",
     "evalue": "search() missing 2 required positional arguments: 'pattern' and 'string'",
     "output_type": "error",
     "traceback": [
      "\u001b[1;31m---------------------------------------------------------------------------\u001b[0m",
      "\u001b[1;31mTypeError\u001b[0m                                 Traceback (most recent call last)",
      "\u001b[1;32m<ipython-input-47-be359a1cfa8b>\u001b[0m in \u001b[0;36m<module>\u001b[1;34m\u001b[0m\n\u001b[0;32m      3\u001b[0m \u001b[1;32mimport\u001b[0m \u001b[0mre\u001b[0m\u001b[1;33m\u001b[0m\u001b[1;33m\u001b[0m\u001b[0m\n\u001b[0;32m      4\u001b[0m \u001b[0mprint\u001b[0m\u001b[1;33m(\u001b[0m\u001b[0mre\u001b[0m\u001b[1;33m.\u001b[0m\u001b[0mmatch\u001b[0m\u001b[1;33m(\u001b[0m\u001b[1;34m\"www\"\u001b[0m\u001b[1;33m,\u001b[0m\u001b[1;34m\"www.yaq.wang\"\u001b[0m\u001b[1;33m,\u001b[0m\u001b[0mre\u001b[0m\u001b[1;33m.\u001b[0m\u001b[0mI\u001b[0m\u001b[1;33m)\u001b[0m\u001b[1;33m)\u001b[0m\u001b[1;33m\u001b[0m\u001b[1;33m\u001b[0m\u001b[0m\n\u001b[1;32m----> 5\u001b[1;33m \u001b[0mprint\u001b[0m\u001b[1;33m(\u001b[0m\u001b[0mre\u001b[0m\u001b[1;33m.\u001b[0m\u001b[0msearch\u001b[0m\u001b[1;33m(\u001b[0m\u001b[1;33m)\u001b[0m\u001b[1;33m)\u001b[0m\u001b[1;33m\u001b[0m\u001b[1;33m\u001b[0m\u001b[0m\n\u001b[0m\u001b[0;32m      6\u001b[0m \u001b[0mprint\u001b[0m\u001b[1;33m(\u001b[0m\u001b[0mre\u001b[0m\u001b[1;33m.\u001b[0m\u001b[0mfindall\u001b[0m\u001b[1;33m(\u001b[0m\u001b[1;33m)\u001b[0m\u001b[1;33m)\u001b[0m\u001b[1;33m\u001b[0m\u001b[1;33m\u001b[0m\u001b[0m\n",
      "\u001b[1;31mTypeError\u001b[0m: search() missing 2 required positional arguments: 'pattern' and 'string'"
     ]
    }
   ],
   "source": [
    "#判断手机号  正则  :写一个规则，剩下的去匹配这个规则\n",
    "#re模块\n",
    "import re\n",
    "print(re.match(\"www\",\"www.yaq.wang\",re.I))\n",
    "print(re.search())\n",
    "print(re.findall())"
   ]
  },
  {
   "cell_type": "code",
   "execution_count": 50,
   "metadata": {},
   "outputs": [
    {
     "ename": "SyntaxError",
     "evalue": "invalid syntax (<ipython-input-50-869da0fe0803>, line 4)",
     "output_type": "error",
     "traceback": [
      "\u001b[1;36m  File \u001b[1;32m\"<ipython-input-50-869da0fe0803>\"\u001b[1;36m, line \u001b[1;32m4\u001b[0m\n\u001b[1;33m    if arr=\"11111111111\":\u001b[0m\n\u001b[1;37m          ^\u001b[0m\n\u001b[1;31mSyntaxError\u001b[0m\u001b[1;31m:\u001b[0m invalid syntax\n"
     ]
    }
   ],
   "source": [
    "#判断是不是手机号\n",
    "import re\n",
    "def num(self,arr):\n",
    "    if arr=\"11111111111\":\n",
    "        return True\n",
    "    else:\n",
    "        return False\n",
    "    \n",
    "    \n",
    "\n",
    "\n",
    "print(re.findall(arr,\"4256482063243\"))"
   ]
  },
  {
   "cell_type": "code",
   "execution_count": 58,
   "metadata": {},
   "outputs": [],
   "source": [
    "import sklearn.datasets as datasets\n"
   ]
  },
  {
   "cell_type": "code",
   "execution_count": 59,
   "metadata": {},
   "outputs": [
    {
     "data": {
      "text/plain": [
       "{'data': array([[5.1, 3.5, 1.4, 0.2],\n",
       "        [4.9, 3. , 1.4, 0.2],\n",
       "        [4.7, 3.2, 1.3, 0.2],\n",
       "        [4.6, 3.1, 1.5, 0.2],\n",
       "        [5. , 3.6, 1.4, 0.2],\n",
       "        [5.4, 3.9, 1.7, 0.4],\n",
       "        [4.6, 3.4, 1.4, 0.3],\n",
       "        [5. , 3.4, 1.5, 0.2],\n",
       "        [4.4, 2.9, 1.4, 0.2],\n",
       "        [4.9, 3.1, 1.5, 0.1],\n",
       "        [5.4, 3.7, 1.5, 0.2],\n",
       "        [4.8, 3.4, 1.6, 0.2],\n",
       "        [4.8, 3. , 1.4, 0.1],\n",
       "        [4.3, 3. , 1.1, 0.1],\n",
       "        [5.8, 4. , 1.2, 0.2],\n",
       "        [5.7, 4.4, 1.5, 0.4],\n",
       "        [5.4, 3.9, 1.3, 0.4],\n",
       "        [5.1, 3.5, 1.4, 0.3],\n",
       "        [5.7, 3.8, 1.7, 0.3],\n",
       "        [5.1, 3.8, 1.5, 0.3],\n",
       "        [5.4, 3.4, 1.7, 0.2],\n",
       "        [5.1, 3.7, 1.5, 0.4],\n",
       "        [4.6, 3.6, 1. , 0.2],\n",
       "        [5.1, 3.3, 1.7, 0.5],\n",
       "        [4.8, 3.4, 1.9, 0.2],\n",
       "        [5. , 3. , 1.6, 0.2],\n",
       "        [5. , 3.4, 1.6, 0.4],\n",
       "        [5.2, 3.5, 1.5, 0.2],\n",
       "        [5.2, 3.4, 1.4, 0.2],\n",
       "        [4.7, 3.2, 1.6, 0.2],\n",
       "        [4.8, 3.1, 1.6, 0.2],\n",
       "        [5.4, 3.4, 1.5, 0.4],\n",
       "        [5.2, 4.1, 1.5, 0.1],\n",
       "        [5.5, 4.2, 1.4, 0.2],\n",
       "        [4.9, 3.1, 1.5, 0.2],\n",
       "        [5. , 3.2, 1.2, 0.2],\n",
       "        [5.5, 3.5, 1.3, 0.2],\n",
       "        [4.9, 3.6, 1.4, 0.1],\n",
       "        [4.4, 3. , 1.3, 0.2],\n",
       "        [5.1, 3.4, 1.5, 0.2],\n",
       "        [5. , 3.5, 1.3, 0.3],\n",
       "        [4.5, 2.3, 1.3, 0.3],\n",
       "        [4.4, 3.2, 1.3, 0.2],\n",
       "        [5. , 3.5, 1.6, 0.6],\n",
       "        [5.1, 3.8, 1.9, 0.4],\n",
       "        [4.8, 3. , 1.4, 0.3],\n",
       "        [5.1, 3.8, 1.6, 0.2],\n",
       "        [4.6, 3.2, 1.4, 0.2],\n",
       "        [5.3, 3.7, 1.5, 0.2],\n",
       "        [5. , 3.3, 1.4, 0.2],\n",
       "        [7. , 3.2, 4.7, 1.4],\n",
       "        [6.4, 3.2, 4.5, 1.5],\n",
       "        [6.9, 3.1, 4.9, 1.5],\n",
       "        [5.5, 2.3, 4. , 1.3],\n",
       "        [6.5, 2.8, 4.6, 1.5],\n",
       "        [5.7, 2.8, 4.5, 1.3],\n",
       "        [6.3, 3.3, 4.7, 1.6],\n",
       "        [4.9, 2.4, 3.3, 1. ],\n",
       "        [6.6, 2.9, 4.6, 1.3],\n",
       "        [5.2, 2.7, 3.9, 1.4],\n",
       "        [5. , 2. , 3.5, 1. ],\n",
       "        [5.9, 3. , 4.2, 1.5],\n",
       "        [6. , 2.2, 4. , 1. ],\n",
       "        [6.1, 2.9, 4.7, 1.4],\n",
       "        [5.6, 2.9, 3.6, 1.3],\n",
       "        [6.7, 3.1, 4.4, 1.4],\n",
       "        [5.6, 3. , 4.5, 1.5],\n",
       "        [5.8, 2.7, 4.1, 1. ],\n",
       "        [6.2, 2.2, 4.5, 1.5],\n",
       "        [5.6, 2.5, 3.9, 1.1],\n",
       "        [5.9, 3.2, 4.8, 1.8],\n",
       "        [6.1, 2.8, 4. , 1.3],\n",
       "        [6.3, 2.5, 4.9, 1.5],\n",
       "        [6.1, 2.8, 4.7, 1.2],\n",
       "        [6.4, 2.9, 4.3, 1.3],\n",
       "        [6.6, 3. , 4.4, 1.4],\n",
       "        [6.8, 2.8, 4.8, 1.4],\n",
       "        [6.7, 3. , 5. , 1.7],\n",
       "        [6. , 2.9, 4.5, 1.5],\n",
       "        [5.7, 2.6, 3.5, 1. ],\n",
       "        [5.5, 2.4, 3.8, 1.1],\n",
       "        [5.5, 2.4, 3.7, 1. ],\n",
       "        [5.8, 2.7, 3.9, 1.2],\n",
       "        [6. , 2.7, 5.1, 1.6],\n",
       "        [5.4, 3. , 4.5, 1.5],\n",
       "        [6. , 3.4, 4.5, 1.6],\n",
       "        [6.7, 3.1, 4.7, 1.5],\n",
       "        [6.3, 2.3, 4.4, 1.3],\n",
       "        [5.6, 3. , 4.1, 1.3],\n",
       "        [5.5, 2.5, 4. , 1.3],\n",
       "        [5.5, 2.6, 4.4, 1.2],\n",
       "        [6.1, 3. , 4.6, 1.4],\n",
       "        [5.8, 2.6, 4. , 1.2],\n",
       "        [5. , 2.3, 3.3, 1. ],\n",
       "        [5.6, 2.7, 4.2, 1.3],\n",
       "        [5.7, 3. , 4.2, 1.2],\n",
       "        [5.7, 2.9, 4.2, 1.3],\n",
       "        [6.2, 2.9, 4.3, 1.3],\n",
       "        [5.1, 2.5, 3. , 1.1],\n",
       "        [5.7, 2.8, 4.1, 1.3],\n",
       "        [6.3, 3.3, 6. , 2.5],\n",
       "        [5.8, 2.7, 5.1, 1.9],\n",
       "        [7.1, 3. , 5.9, 2.1],\n",
       "        [6.3, 2.9, 5.6, 1.8],\n",
       "        [6.5, 3. , 5.8, 2.2],\n",
       "        [7.6, 3. , 6.6, 2.1],\n",
       "        [4.9, 2.5, 4.5, 1.7],\n",
       "        [7.3, 2.9, 6.3, 1.8],\n",
       "        [6.7, 2.5, 5.8, 1.8],\n",
       "        [7.2, 3.6, 6.1, 2.5],\n",
       "        [6.5, 3.2, 5.1, 2. ],\n",
       "        [6.4, 2.7, 5.3, 1.9],\n",
       "        [6.8, 3. , 5.5, 2.1],\n",
       "        [5.7, 2.5, 5. , 2. ],\n",
       "        [5.8, 2.8, 5.1, 2.4],\n",
       "        [6.4, 3.2, 5.3, 2.3],\n",
       "        [6.5, 3. , 5.5, 1.8],\n",
       "        [7.7, 3.8, 6.7, 2.2],\n",
       "        [7.7, 2.6, 6.9, 2.3],\n",
       "        [6. , 2.2, 5. , 1.5],\n",
       "        [6.9, 3.2, 5.7, 2.3],\n",
       "        [5.6, 2.8, 4.9, 2. ],\n",
       "        [7.7, 2.8, 6.7, 2. ],\n",
       "        [6.3, 2.7, 4.9, 1.8],\n",
       "        [6.7, 3.3, 5.7, 2.1],\n",
       "        [7.2, 3.2, 6. , 1.8],\n",
       "        [6.2, 2.8, 4.8, 1.8],\n",
       "        [6.1, 3. , 4.9, 1.8],\n",
       "        [6.4, 2.8, 5.6, 2.1],\n",
       "        [7.2, 3. , 5.8, 1.6],\n",
       "        [7.4, 2.8, 6.1, 1.9],\n",
       "        [7.9, 3.8, 6.4, 2. ],\n",
       "        [6.4, 2.8, 5.6, 2.2],\n",
       "        [6.3, 2.8, 5.1, 1.5],\n",
       "        [6.1, 2.6, 5.6, 1.4],\n",
       "        [7.7, 3. , 6.1, 2.3],\n",
       "        [6.3, 3.4, 5.6, 2.4],\n",
       "        [6.4, 3.1, 5.5, 1.8],\n",
       "        [6. , 3. , 4.8, 1.8],\n",
       "        [6.9, 3.1, 5.4, 2.1],\n",
       "        [6.7, 3.1, 5.6, 2.4],\n",
       "        [6.9, 3.1, 5.1, 2.3],\n",
       "        [5.8, 2.7, 5.1, 1.9],\n",
       "        [6.8, 3.2, 5.9, 2.3],\n",
       "        [6.7, 3.3, 5.7, 2.5],\n",
       "        [6.7, 3. , 5.2, 2.3],\n",
       "        [6.3, 2.5, 5. , 1.9],\n",
       "        [6.5, 3. , 5.2, 2. ],\n",
       "        [6.2, 3.4, 5.4, 2.3],\n",
       "        [5.9, 3. , 5.1, 1.8]]),\n",
       " 'target': array([0, 0, 0, 0, 0, 0, 0, 0, 0, 0, 0, 0, 0, 0, 0, 0, 0, 0, 0, 0, 0, 0,\n",
       "        0, 0, 0, 0, 0, 0, 0, 0, 0, 0, 0, 0, 0, 0, 0, 0, 0, 0, 0, 0, 0, 0,\n",
       "        0, 0, 0, 0, 0, 0, 1, 1, 1, 1, 1, 1, 1, 1, 1, 1, 1, 1, 1, 1, 1, 1,\n",
       "        1, 1, 1, 1, 1, 1, 1, 1, 1, 1, 1, 1, 1, 1, 1, 1, 1, 1, 1, 1, 1, 1,\n",
       "        1, 1, 1, 1, 1, 1, 1, 1, 1, 1, 1, 1, 2, 2, 2, 2, 2, 2, 2, 2, 2, 2,\n",
       "        2, 2, 2, 2, 2, 2, 2, 2, 2, 2, 2, 2, 2, 2, 2, 2, 2, 2, 2, 2, 2, 2,\n",
       "        2, 2, 2, 2, 2, 2, 2, 2, 2, 2, 2, 2, 2, 2, 2, 2, 2, 2]),\n",
       " 'target_names': array(['setosa', 'versicolor', 'virginica'], dtype='<U10'),\n",
       " 'DESCR': '.. _iris_dataset:\\n\\nIris plants dataset\\n--------------------\\n\\n**Data Set Characteristics:**\\n\\n    :Number of Instances: 150 (50 in each of three classes)\\n    :Number of Attributes: 4 numeric, predictive attributes and the class\\n    :Attribute Information:\\n        - sepal length in cm\\n        - sepal width in cm\\n        - petal length in cm\\n        - petal width in cm\\n        - class:\\n                - Iris-Setosa\\n                - Iris-Versicolour\\n                - Iris-Virginica\\n                \\n    :Summary Statistics:\\n\\n    ============== ==== ==== ======= ===== ====================\\n                    Min  Max   Mean    SD   Class Correlation\\n    ============== ==== ==== ======= ===== ====================\\n    sepal length:   4.3  7.9   5.84   0.83    0.7826\\n    sepal width:    2.0  4.4   3.05   0.43   -0.4194\\n    petal length:   1.0  6.9   3.76   1.76    0.9490  (high!)\\n    petal width:    0.1  2.5   1.20   0.76    0.9565  (high!)\\n    ============== ==== ==== ======= ===== ====================\\n\\n    :Missing Attribute Values: None\\n    :Class Distribution: 33.3% for each of 3 classes.\\n    :Creator: R.A. Fisher\\n    :Donor: Michael Marshall (MARSHALL%PLU@io.arc.nasa.gov)\\n    :Date: July, 1988\\n\\nThe famous Iris database, first used by Sir R.A. Fisher. The dataset is taken\\nfrom Fisher\\'s paper. Note that it\\'s the same as in R, but not as in the UCI\\nMachine Learning Repository, which has two wrong data points.\\n\\nThis is perhaps the best known database to be found in the\\npattern recognition literature.  Fisher\\'s paper is a classic in the field and\\nis referenced frequently to this day.  (See Duda & Hart, for example.)  The\\ndata set contains 3 classes of 50 instances each, where each class refers to a\\ntype of iris plant.  One class is linearly separable from the other 2; the\\nlatter are NOT linearly separable from each other.\\n\\n.. topic:: References\\n\\n   - Fisher, R.A. \"The use of multiple measurements in taxonomic problems\"\\n     Annual Eugenics, 7, Part II, 179-188 (1936); also in \"Contributions to\\n     Mathematical Statistics\" (John Wiley, NY, 1950).\\n   - Duda, R.O., & Hart, P.E. (1973) Pattern Classification and Scene Analysis.\\n     (Q327.D83) John Wiley & Sons.  ISBN 0-471-22361-1.  See page 218.\\n   - Dasarathy, B.V. (1980) \"Nosing Around the Neighborhood: A New System\\n     Structure and Classification Rule for Recognition in Partially Exposed\\n     Environments\".  IEEE Transactions on Pattern Analysis and Machine\\n     Intelligence, Vol. PAMI-2, No. 1, 67-71.\\n   - Gates, G.W. (1972) \"The Reduced Nearest Neighbor Rule\".  IEEE Transactions\\n     on Information Theory, May 1972, 431-433.\\n   - See also: 1988 MLC Proceedings, 54-64.  Cheeseman et al\"s AUTOCLASS II\\n     conceptual clustering system finds 3 classes in the data.\\n   - Many, many more ...',\n",
       " 'feature_names': ['sepal length (cm)',\n",
       "  'sepal width (cm)',\n",
       "  'petal length (cm)',\n",
       "  'petal width (cm)'],\n",
       " 'filename': 'D:\\\\Anaconda3\\\\lib\\\\site-packages\\\\sklearn\\\\datasets\\\\data\\\\iris.csv'}"
      ]
     },
     "execution_count": 59,
     "metadata": {},
     "output_type": "execute_result"
    }
   ],
   "source": [
    "iris=datasets.load_iris()\n",
    "iris"
   ]
  },
  {
   "cell_type": "code",
   "execution_count": 60,
   "metadata": {},
   "outputs": [
    {
     "name": "stdout",
     "output_type": "stream",
     "text": [
      "<class 'numpy.ndarray'>\n"
     ]
    },
    {
     "data": {
      "text/plain": [
       "(150, 4)"
      ]
     },
     "execution_count": 60,
     "metadata": {},
     "output_type": "execute_result"
    }
   ],
   "source": [
    "data=iris[\"data\"]\n",
    "target=iris['target']\n",
    "target_names=iris['target_names']\n",
    "print(type(target))\n",
    "data.shape"
   ]
  },
  {
   "cell_type": "code",
   "execution_count": 61,
   "metadata": {},
   "outputs": [],
   "source": [
    "#分类\n",
    "from sklearn.model_selection import train_test_split"
   ]
  },
  {
   "cell_type": "code",
   "execution_count": 62,
   "metadata": {},
   "outputs": [],
   "source": [
    "##X_train,X_test是将data一分为二，135，15           y_train,y_test将target一分为二，135，15\n",
    "X_train,X_test,y_train,y_test=train_test_split(data,target,test_size=0.1)  #将数据data按照0.1的比例分成2份  9：1"
   ]
  },
  {
   "cell_type": "code",
   "execution_count": 63,
   "metadata": {},
   "outputs": [
    {
     "data": {
      "text/plain": [
       "(135, 4)"
      ]
     },
     "metadata": {},
     "output_type": "display_data"
    },
    {
     "data": {
      "text/plain": [
       "(15, 4)"
      ]
     },
     "metadata": {},
     "output_type": "display_data"
    }
   ],
   "source": [
    "display(X_train.shape)\n",
    "display(X_test.shape)"
   ]
  },
  {
   "cell_type": "code",
   "execution_count": 64,
   "metadata": {},
   "outputs": [],
   "source": [
    "from sklearn.neighbors import KNeighborsClassifier\n",
    "knn=KNeighborsClassifier(n_neighbors=10)   #最近圆里面的特征点数"
   ]
  },
  {
   "cell_type": "code",
   "execution_count": 65,
   "metadata": {},
   "outputs": [
    {
     "data": {
      "text/plain": [
       "KNeighborsClassifier(algorithm='auto', leaf_size=30, metric='minkowski',\n",
       "           metric_params=None, n_jobs=None, n_neighbors=10, p=2,\n",
       "           weights='uniform')"
      ]
     },
     "execution_count": 65,
     "metadata": {},
     "output_type": "execute_result"
    }
   ],
   "source": [
    "knn.fit(X_train,y_train)  #建立模型"
   ]
  },
  {
   "cell_type": "code",
   "execution_count": 69,
   "metadata": {},
   "outputs": [
    {
     "data": {
      "text/plain": [
       "array([2, 1, 1, 2, 2, 0, 2, 0, 0, 1, 0, 2, 1, 0, 0])"
      ]
     },
     "metadata": {},
     "output_type": "display_data"
    }
   ],
   "source": [
    "y_=knn.predict(X_test)   #使用上述模型预测\n",
    "display(y_)"
   ]
  },
  {
   "cell_type": "code",
   "execution_count": 70,
   "metadata": {},
   "outputs": [
    {
     "data": {
      "text/plain": [
       "array([2, 2, 1, 2, 2, 0, 2, 0, 0, 1, 0, 2, 1, 0, 0])"
      ]
     },
     "metadata": {},
     "output_type": "display_data"
    },
    {
     "ename": "AttributeError",
     "evalue": "'numpy.ndarray' object has no attribute 'value'",
     "output_type": "error",
     "traceback": [
      "\u001b[1;31m---------------------------------------------------------------------------\u001b[0m",
      "\u001b[1;31mAttributeError\u001b[0m                            Traceback (most recent call last)",
      "\u001b[1;32m<ipython-input-70-b824683de63a>\u001b[0m in \u001b[0;36m<module>\u001b[1;34m\u001b[0m\n\u001b[0;32m      8\u001b[0m \u001b[1;32mimport\u001b[0m \u001b[0mmatplotlib\u001b[0m\u001b[1;33m.\u001b[0m\u001b[0mpyplot\u001b[0m \u001b[1;32mas\u001b[0m \u001b[0mplt\u001b[0m          \u001b[1;31m# plotting\u001b[0m\u001b[1;33m\u001b[0m\u001b[1;33m\u001b[0m\u001b[0m\n\u001b[0;32m      9\u001b[0m \u001b[1;32mimport\u001b[0m \u001b[0mnumpy\u001b[0m \u001b[1;32mas\u001b[0m \u001b[0mnp\u001b[0m\u001b[1;33m\u001b[0m\u001b[1;33m\u001b[0m\u001b[0m\n\u001b[1;32m---> 10\u001b[1;33m \u001b[0mpd\u001b[0m\u001b[1;33m.\u001b[0m\u001b[0mcrosstab\u001b[0m\u001b[1;33m(\u001b[0m\u001b[0my_\u001b[0m\u001b[1;33m,\u001b[0m\u001b[0my_test\u001b[0m\u001b[1;33m.\u001b[0m\u001b[0mvalue\u001b[0m\u001b[1;33m.\u001b[0m\u001b[0mreshape\u001b[0m\u001b[1;33m(\u001b[0m\u001b[1;33m(\u001b[0m\u001b[1;33m-\u001b[0m\u001b[1;36m1\u001b[0m\u001b[1;33m)\u001b[0m\u001b[1;33m)\u001b[0m\u001b[1;33m,\u001b[0m\u001b[0mrownames\u001b[0m\u001b[1;33m=\u001b[0m\u001b[1;33m[\u001b[0m\u001b[1;34m'predict'\u001b[0m\u001b[1;33m]\u001b[0m\u001b[1;33m,\u001b[0m\u001b[0mcolnames\u001b[0m\u001b[1;33m=\u001b[0m\u001b[1;33m[\u001b[0m\u001b[1;34m'True'\u001b[0m\u001b[1;33m]\u001b[0m\u001b[1;33m)\u001b[0m\u001b[1;33m\u001b[0m\u001b[1;33m\u001b[0m\u001b[0m\n\u001b[0m",
      "\u001b[1;31mAttributeError\u001b[0m: 'numpy.ndarray' object has no attribute 'value'"
     ]
    }
   ],
   "source": [
    "#标准答案\n",
    "display(y_test)\n",
    "#准确率\n",
    "knn.score(X_test,y_test)\n",
    "\n",
    "#交叉表显示\n",
    "import pandas as pd \n",
    "     # plotting\n",
    "import numpy as np \n",
    "pd.crosstab(y_,y_test.value.reshape((-1)),rownames=['predict'],colnames=['True'])"
   ]
  },
  {
   "cell_type": "code",
   "execution_count": 53,
   "metadata": {},
   "outputs": [
    {
     "ename": "AttributeError",
     "evalue": "'numpy.ndarray' object has no attribute 'head'",
     "output_type": "error",
     "traceback": [
      "\u001b[1;31m---------------------------------------------------------------------------\u001b[0m",
      "\u001b[1;31mAttributeError\u001b[0m                            Traceback (most recent call last)",
      "\u001b[1;32m<ipython-input-53-a04caf00a86c>\u001b[0m in \u001b[0;36m<module>\u001b[1;34m\u001b[0m\n\u001b[0;32m      1\u001b[0m \u001b[1;31m#提高准确率\u001b[0m\u001b[1;33m\u001b[0m\u001b[1;33m\u001b[0m\u001b[1;33m\u001b[0m\u001b[0m\n\u001b[0;32m      2\u001b[0m \u001b[1;31m#数据归一化   (v-min)/(max-min)------>0~1\u001b[0m\u001b[1;33m\u001b[0m\u001b[1;33m\u001b[0m\u001b[1;33m\u001b[0m\u001b[0m\n\u001b[1;32m----> 3\u001b[1;33m \u001b[0mdata\u001b[0m\u001b[1;33m.\u001b[0m\u001b[0mhead\u001b[0m\u001b[1;33m(\u001b[0m\u001b[1;33m)\u001b[0m\u001b[1;33m\u001b[0m\u001b[1;33m\u001b[0m\u001b[0m\n\u001b[0m",
      "\u001b[1;31mAttributeError\u001b[0m: 'numpy.ndarray' object has no attribute 'head'"
     ]
    }
   ],
   "source": [
    "#提高准确率\n",
    "#数据归一化   (v-min)/(max-min)------>0~1\n",
    "data.head()\n",
    "columns=cata.columns\n",
    "for col in columns:\n",
    "    c=data[col]\n",
    "    v_min=c.min()\n",
    "    v_max=c.max()\n",
    "    data[col]=(c-v_min)/(v_max-v_min)"
   ]
  },
  {
   "cell_type": "code",
   "execution_count": 71,
   "metadata": {},
   "outputs": [
    {
     "data": {
      "text/plain": [
       "array([[ 0.        ],\n",
       "       [ 0.12693304],\n",
       "       [ 0.25386607],\n",
       "       [ 0.38079911],\n",
       "       [ 0.50773215],\n",
       "       [ 0.63466518],\n",
       "       [ 0.76159822],\n",
       "       [ 0.88853126],\n",
       "       [ 1.01546429],\n",
       "       [ 1.14239733],\n",
       "       [ 1.26933037],\n",
       "       [ 1.3962634 ],\n",
       "       [ 1.52319644],\n",
       "       [ 1.65012947],\n",
       "       [ 1.77706251],\n",
       "       [ 1.90399555],\n",
       "       [ 2.03092858],\n",
       "       [ 2.15786162],\n",
       "       [ 2.28479466],\n",
       "       [ 2.41172769],\n",
       "       [ 2.53866073],\n",
       "       [ 2.66559377],\n",
       "       [ 2.7925268 ],\n",
       "       [ 2.91945984],\n",
       "       [ 3.04639288],\n",
       "       [ 3.17332591],\n",
       "       [ 3.30025895],\n",
       "       [ 3.42719199],\n",
       "       [ 3.55412502],\n",
       "       [ 3.68105806],\n",
       "       [ 3.8079911 ],\n",
       "       [ 3.93492413],\n",
       "       [ 4.06185717],\n",
       "       [ 4.1887902 ],\n",
       "       [ 4.31572324],\n",
       "       [ 4.44265628],\n",
       "       [ 4.56958931],\n",
       "       [ 4.69652235],\n",
       "       [ 4.82345539],\n",
       "       [ 4.95038842],\n",
       "       [ 5.07732146],\n",
       "       [ 5.2042545 ],\n",
       "       [ 5.33118753],\n",
       "       [ 5.45812057],\n",
       "       [ 5.58505361],\n",
       "       [ 5.71198664],\n",
       "       [ 5.83891968],\n",
       "       [ 5.96585272],\n",
       "       [ 6.09278575],\n",
       "       [ 6.21971879],\n",
       "       [ 6.34665183],\n",
       "       [ 6.47358486],\n",
       "       [ 6.6005179 ],\n",
       "       [ 6.72745093],\n",
       "       [ 6.85438397],\n",
       "       [ 6.98131701],\n",
       "       [ 7.10825004],\n",
       "       [ 7.23518308],\n",
       "       [ 7.36211612],\n",
       "       [ 7.48904915],\n",
       "       [ 7.61598219],\n",
       "       [ 7.74291523],\n",
       "       [ 7.86984826],\n",
       "       [ 7.9967813 ],\n",
       "       [ 8.12371434],\n",
       "       [ 8.25064737],\n",
       "       [ 8.37758041],\n",
       "       [ 8.50451345],\n",
       "       [ 8.63144648],\n",
       "       [ 8.75837952],\n",
       "       [ 8.88531256],\n",
       "       [ 9.01224559],\n",
       "       [ 9.13917863],\n",
       "       [ 9.26611167],\n",
       "       [ 9.3930447 ],\n",
       "       [ 9.51997774],\n",
       "       [ 9.64691077],\n",
       "       [ 9.77384381],\n",
       "       [ 9.90077685],\n",
       "       [10.02770988],\n",
       "       [10.15464292],\n",
       "       [10.28157596],\n",
       "       [10.40850899],\n",
       "       [10.53544203],\n",
       "       [10.66237507],\n",
       "       [10.7893081 ],\n",
       "       [10.91624114],\n",
       "       [11.04317418],\n",
       "       [11.17010721],\n",
       "       [11.29704025],\n",
       "       [11.42397329],\n",
       "       [11.55090632],\n",
       "       [11.67783936],\n",
       "       [11.8047724 ],\n",
       "       [11.93170543],\n",
       "       [12.05863847],\n",
       "       [12.1855715 ],\n",
       "       [12.31250454],\n",
       "       [12.43943758],\n",
       "       [12.56637061]])"
      ]
     },
     "metadata": {},
     "output_type": "display_data"
    }
   ],
   "source": [
    "#回归  趋势预测\n",
    "from sklearn.neighbors import KNeighborsRegressor    #y=wx+b\n",
    "\n",
    "\n",
    "\n",
    "#机器学习所需数据必须是二维的，通过reshpe转换 [[样本1]，[样本2]....]\n",
    "X_train=np.linspace(0,4*np.pi,100).reshape((100,1))  #0到4*np.pi分成100份，100个样本值\n",
    "display(X_train)"
   ]
  },
  {
   "cell_type": "code",
   "execution_count": 72,
   "metadata": {},
   "outputs": [],
   "source": [
    "from sklearn.neighbors import KNeighborsClassifier"
   ]
  },
  {
   "cell_type": "markdown",
   "metadata": {},
   "source": [
    "# linear regression from scratch\n"
   ]
  },
  {
   "cell_type": "markdown",
   "metadata": {},
   "source": [
    "#### load dependencies"
   ]
  },
  {
   "cell_type": "code",
   "execution_count": 78,
   "metadata": {},
   "outputs": [
    {
     "ename": "ValueError",
     "evalue": "operands could not be broadcast together with shapes (25,1) (13,1) (25,1) ",
     "output_type": "error",
     "traceback": [
      "\u001b[1;31m---------------------------------------------------------------------------\u001b[0m",
      "\u001b[1;31mValueError\u001b[0m                                Traceback (most recent call last)",
      "\u001b[1;32m<ipython-input-78-d99cd37ec590>\u001b[0m in \u001b[0;36m<module>\u001b[1;34m\u001b[0m\n\u001b[0;32m      1\u001b[0m \u001b[0my_train\u001b[0m\u001b[1;33m=\u001b[0m\u001b[0mnp\u001b[0m\u001b[1;33m.\u001b[0m\u001b[0msin\u001b[0m\u001b[1;33m(\u001b[0m\u001b[0mX_train\u001b[0m\u001b[1;33m)\u001b[0m\u001b[1;33m\u001b[0m\u001b[1;33m\u001b[0m\u001b[0m\n\u001b[0;32m      2\u001b[0m \u001b[1;31m#y_train添加噪声  randn生成正负数据（-1，1）\u001b[0m\u001b[1;33m\u001b[0m\u001b[1;33m\u001b[0m\u001b[1;33m\u001b[0m\u001b[0m\n\u001b[1;32m----> 3\u001b[1;33m \u001b[0my_train\u001b[0m\u001b[1;33m[\u001b[0m\u001b[1;33m:\u001b[0m\u001b[1;33m:\u001b[0m\u001b[1;36m4\u001b[0m\u001b[1;33m]\u001b[0m\u001b[1;33m+=\u001b[0m\u001b[0mnp\u001b[0m\u001b[1;33m.\u001b[0m\u001b[0mrandom\u001b[0m\u001b[1;33m.\u001b[0m\u001b[0mrandn\u001b[0m\u001b[1;33m(\u001b[0m\u001b[1;36m13\u001b[0m\u001b[1;33m,\u001b[0m\u001b[1;36m1\u001b[0m\u001b[1;33m)\u001b[0m\u001b[1;33m*\u001b[0m\u001b[1;36m0.2\u001b[0m\u001b[1;33m\u001b[0m\u001b[1;33m\u001b[0m\u001b[0m\n\u001b[0m\u001b[0;32m      4\u001b[0m \u001b[1;32mimport\u001b[0m \u001b[0mmatplotlib\u001b[0m\u001b[1;33m.\u001b[0m\u001b[0mpyplot\u001b[0m \u001b[1;32mas\u001b[0m \u001b[0mplt\u001b[0m\u001b[1;33m\u001b[0m\u001b[1;33m\u001b[0m\u001b[0m\n\u001b[0;32m      5\u001b[0m \u001b[0mget_ipython\u001b[0m\u001b[1;33m(\u001b[0m\u001b[1;33m)\u001b[0m\u001b[1;33m.\u001b[0m\u001b[0mrun_line_magic\u001b[0m\u001b[1;33m(\u001b[0m\u001b[1;34m'matplotlib'\u001b[0m\u001b[1;33m,\u001b[0m \u001b[1;34m'inline'\u001b[0m\u001b[1;33m)\u001b[0m\u001b[1;33m\u001b[0m\u001b[1;33m\u001b[0m\u001b[0m\n",
      "\u001b[1;31mValueError\u001b[0m: operands could not be broadcast together with shapes (25,1) (13,1) (25,1) "
     ]
    }
   ],
   "source": [
    "y_train=np.sin(X_train)\n",
    "#y_train添加噪声  randn生成正负数据（-1，1）\n",
    "y_train[::4]+=np.random.randn(13,1)*0.2\n",
    "import matplotlib.pyplot as plt     \n",
    "%matplotlib inline\n",
    "plt.scatter(X_train,y_train)"
   ]
  },
  {
   "cell_type": "code",
   "execution_count": null,
   "metadata": {},
   "outputs": [],
   "source": []
  },
  {
   "cell_type": "code",
   "execution_count": null,
   "metadata": {},
   "outputs": [],
   "source": []
  }
 ],
 "metadata": {
  "kernelspec": {
   "display_name": "Python 3",
   "language": "python",
   "name": "python3"
  },
  "language_info": {
   "codemirror_mode": {
    "name": "ipython",
    "version": 3
   },
   "file_extension": ".py",
   "mimetype": "text/x-python",
   "name": "python",
   "nbconvert_exporter": "python",
   "pygments_lexer": "ipython3",
   "version": "3.7.1"
  }
 },
 "nbformat": 4,
 "nbformat_minor": 2
}
